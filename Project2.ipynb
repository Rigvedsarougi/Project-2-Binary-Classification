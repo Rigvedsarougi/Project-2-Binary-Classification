{
 "cells": [
  {
   "cell_type": "code",
   "execution_count": 1,
   "id": "9f11e296",
   "metadata": {},
   "outputs": [],
   "source": [
    "import pandas as pd"
   ]
  },
  {
   "cell_type": "markdown",
   "id": "7287982d",
   "metadata": {},
   "source": [
    "#### Reading the data"
   ]
  },
  {
   "cell_type": "code",
   "execution_count": 2,
   "id": "11bf6dd9",
   "metadata": {},
   "outputs": [],
   "source": [
    "bank_data=pd.read_csv(\"bankchurn.csv\")"
   ]
  },
  {
   "cell_type": "code",
   "execution_count": 3,
   "id": "cb070cb3",
   "metadata": {},
   "outputs": [
    {
     "data": {
      "text/html": [
       "<div>\n",
       "<style scoped>\n",
       "    .dataframe tbody tr th:only-of-type {\n",
       "        vertical-align: middle;\n",
       "    }\n",
       "\n",
       "    .dataframe tbody tr th {\n",
       "        vertical-align: top;\n",
       "    }\n",
       "\n",
       "    .dataframe thead th {\n",
       "        text-align: right;\n",
       "    }\n",
       "</style>\n",
       "<table border=\"1\" class=\"dataframe\">\n",
       "  <thead>\n",
       "    <tr style=\"text-align: right;\">\n",
       "      <th></th>\n",
       "      <th>CustomerId</th>\n",
       "      <th>Surname</th>\n",
       "      <th>CreditScore</th>\n",
       "      <th>Geography</th>\n",
       "      <th>Gender</th>\n",
       "      <th>Age</th>\n",
       "      <th>Tenure</th>\n",
       "      <th>Balance</th>\n",
       "      <th>NumOfProducts</th>\n",
       "      <th>HasCrCard</th>\n",
       "      <th>IsActiveMember</th>\n",
       "      <th>EstimatedSalary</th>\n",
       "      <th>Exited</th>\n",
       "    </tr>\n",
       "  </thead>\n",
       "  <tbody>\n",
       "    <tr>\n",
       "      <th>0</th>\n",
       "      <td>15634602</td>\n",
       "      <td>Hargrave</td>\n",
       "      <td>619</td>\n",
       "      <td>France</td>\n",
       "      <td>Female</td>\n",
       "      <td>42</td>\n",
       "      <td>2</td>\n",
       "      <td>0.00</td>\n",
       "      <td>1</td>\n",
       "      <td>1</td>\n",
       "      <td>1</td>\n",
       "      <td>101348.88</td>\n",
       "      <td>1</td>\n",
       "    </tr>\n",
       "    <tr>\n",
       "      <th>1</th>\n",
       "      <td>15647311</td>\n",
       "      <td>Hill</td>\n",
       "      <td>608</td>\n",
       "      <td>Spain</td>\n",
       "      <td>Female</td>\n",
       "      <td>41</td>\n",
       "      <td>1</td>\n",
       "      <td>83807.86</td>\n",
       "      <td>1</td>\n",
       "      <td>0</td>\n",
       "      <td>1</td>\n",
       "      <td>112542.58</td>\n",
       "      <td>0</td>\n",
       "    </tr>\n",
       "    <tr>\n",
       "      <th>2</th>\n",
       "      <td>15619304</td>\n",
       "      <td>Onio</td>\n",
       "      <td>502</td>\n",
       "      <td>France</td>\n",
       "      <td>Female</td>\n",
       "      <td>42</td>\n",
       "      <td>8</td>\n",
       "      <td>159660.80</td>\n",
       "      <td>3</td>\n",
       "      <td>1</td>\n",
       "      <td>0</td>\n",
       "      <td>113931.57</td>\n",
       "      <td>1</td>\n",
       "    </tr>\n",
       "    <tr>\n",
       "      <th>3</th>\n",
       "      <td>15701354</td>\n",
       "      <td>Boni</td>\n",
       "      <td>699</td>\n",
       "      <td>France</td>\n",
       "      <td>Female</td>\n",
       "      <td>39</td>\n",
       "      <td>1</td>\n",
       "      <td>0.00</td>\n",
       "      <td>2</td>\n",
       "      <td>0</td>\n",
       "      <td>0</td>\n",
       "      <td>93826.63</td>\n",
       "      <td>0</td>\n",
       "    </tr>\n",
       "    <tr>\n",
       "      <th>4</th>\n",
       "      <td>15737888</td>\n",
       "      <td>Mitchell</td>\n",
       "      <td>850</td>\n",
       "      <td>Spain</td>\n",
       "      <td>Female</td>\n",
       "      <td>43</td>\n",
       "      <td>2</td>\n",
       "      <td>125510.82</td>\n",
       "      <td>1</td>\n",
       "      <td>1</td>\n",
       "      <td>1</td>\n",
       "      <td>79084.10</td>\n",
       "      <td>0</td>\n",
       "    </tr>\n",
       "  </tbody>\n",
       "</table>\n",
       "</div>"
      ],
      "text/plain": [
       "   CustomerId   Surname  CreditScore Geography  Gender  Age  Tenure  \\\n",
       "0    15634602  Hargrave          619    France  Female   42       2   \n",
       "1    15647311      Hill          608     Spain  Female   41       1   \n",
       "2    15619304      Onio          502    France  Female   42       8   \n",
       "3    15701354      Boni          699    France  Female   39       1   \n",
       "4    15737888  Mitchell          850     Spain  Female   43       2   \n",
       "\n",
       "     Balance  NumOfProducts  HasCrCard  IsActiveMember  EstimatedSalary  \\\n",
       "0       0.00              1          1               1        101348.88   \n",
       "1   83807.86              1          0               1        112542.58   \n",
       "2  159660.80              3          1               0        113931.57   \n",
       "3       0.00              2          0               0         93826.63   \n",
       "4  125510.82              1          1               1         79084.10   \n",
       "\n",
       "   Exited  \n",
       "0       1  \n",
       "1       0  \n",
       "2       1  \n",
       "3       0  \n",
       "4       0  "
      ]
     },
     "execution_count": 3,
     "metadata": {},
     "output_type": "execute_result"
    }
   ],
   "source": [
    "bank_data.head()"
   ]
  },
  {
   "cell_type": "code",
   "execution_count": 4,
   "id": "1ced41e6",
   "metadata": {},
   "outputs": [
    {
     "name": "stdout",
     "output_type": "stream",
     "text": [
      "10000 samples and 13 features in the insurance  dataset.\n"
     ]
    }
   ],
   "source": [
    "print(f'{bank_data.shape[0]} samples and {bank_data.shape[1]} features in the insurance  dataset.')"
   ]
  },
  {
   "cell_type": "markdown",
   "id": "87136e20",
   "metadata": {},
   "source": [
    "#### Understanding the data"
   ]
  },
  {
   "cell_type": "markdown",
   "id": "4b200913",
   "metadata": {},
   "source": [
    "#### view data types"
   ]
  },
  {
   "cell_type": "code",
   "execution_count": 5,
   "id": "3f58a21f",
   "metadata": {},
   "outputs": [
    {
     "data": {
      "text/plain": [
       "CustomerId           int64\n",
       "Surname             object\n",
       "CreditScore          int64\n",
       "Geography           object\n",
       "Gender              object\n",
       "Age                  int64\n",
       "Tenure               int64\n",
       "Balance            float64\n",
       "NumOfProducts        int64\n",
       "HasCrCard            int64\n",
       "IsActiveMember       int64\n",
       "EstimatedSalary    float64\n",
       "Exited               int64\n",
       "dtype: object"
      ]
     },
     "execution_count": 5,
     "metadata": {},
     "output_type": "execute_result"
    }
   ],
   "source": [
    "bank_data.dtypes"
   ]
  },
  {
   "cell_type": "markdown",
   "id": "968342b1",
   "metadata": {},
   "source": [
    "#### view statistical information.\n"
   ]
  },
  {
   "cell_type": "code",
   "execution_count": 6,
   "id": "8d82bed8",
   "metadata": {},
   "outputs": [
    {
     "data": {
      "text/html": [
       "<div>\n",
       "<style scoped>\n",
       "    .dataframe tbody tr th:only-of-type {\n",
       "        vertical-align: middle;\n",
       "    }\n",
       "\n",
       "    .dataframe tbody tr th {\n",
       "        vertical-align: top;\n",
       "    }\n",
       "\n",
       "    .dataframe thead th {\n",
       "        text-align: right;\n",
       "    }\n",
       "</style>\n",
       "<table border=\"1\" class=\"dataframe\">\n",
       "  <thead>\n",
       "    <tr style=\"text-align: right;\">\n",
       "      <th></th>\n",
       "      <th>CustomerId</th>\n",
       "      <th>CreditScore</th>\n",
       "      <th>Age</th>\n",
       "      <th>Tenure</th>\n",
       "      <th>Balance</th>\n",
       "      <th>NumOfProducts</th>\n",
       "      <th>HasCrCard</th>\n",
       "      <th>IsActiveMember</th>\n",
       "      <th>EstimatedSalary</th>\n",
       "      <th>Exited</th>\n",
       "    </tr>\n",
       "  </thead>\n",
       "  <tbody>\n",
       "    <tr>\n",
       "      <th>count</th>\n",
       "      <td>1.000000e+04</td>\n",
       "      <td>10000.000000</td>\n",
       "      <td>10000.000000</td>\n",
       "      <td>10000.000000</td>\n",
       "      <td>10000.000000</td>\n",
       "      <td>10000.000000</td>\n",
       "      <td>10000.00000</td>\n",
       "      <td>10000.000000</td>\n",
       "      <td>10000.000000</td>\n",
       "      <td>10000.000000</td>\n",
       "    </tr>\n",
       "    <tr>\n",
       "      <th>mean</th>\n",
       "      <td>1.569094e+07</td>\n",
       "      <td>650.528800</td>\n",
       "      <td>38.921800</td>\n",
       "      <td>5.012800</td>\n",
       "      <td>76485.889288</td>\n",
       "      <td>1.530200</td>\n",
       "      <td>0.70550</td>\n",
       "      <td>0.515100</td>\n",
       "      <td>100090.239881</td>\n",
       "      <td>0.203700</td>\n",
       "    </tr>\n",
       "    <tr>\n",
       "      <th>std</th>\n",
       "      <td>7.193619e+04</td>\n",
       "      <td>96.653299</td>\n",
       "      <td>10.487806</td>\n",
       "      <td>2.892174</td>\n",
       "      <td>62397.405202</td>\n",
       "      <td>0.581654</td>\n",
       "      <td>0.45584</td>\n",
       "      <td>0.499797</td>\n",
       "      <td>57510.492818</td>\n",
       "      <td>0.402769</td>\n",
       "    </tr>\n",
       "    <tr>\n",
       "      <th>min</th>\n",
       "      <td>1.556570e+07</td>\n",
       "      <td>350.000000</td>\n",
       "      <td>18.000000</td>\n",
       "      <td>0.000000</td>\n",
       "      <td>0.000000</td>\n",
       "      <td>1.000000</td>\n",
       "      <td>0.00000</td>\n",
       "      <td>0.000000</td>\n",
       "      <td>11.580000</td>\n",
       "      <td>0.000000</td>\n",
       "    </tr>\n",
       "    <tr>\n",
       "      <th>25%</th>\n",
       "      <td>1.562853e+07</td>\n",
       "      <td>584.000000</td>\n",
       "      <td>32.000000</td>\n",
       "      <td>3.000000</td>\n",
       "      <td>0.000000</td>\n",
       "      <td>1.000000</td>\n",
       "      <td>0.00000</td>\n",
       "      <td>0.000000</td>\n",
       "      <td>51002.110000</td>\n",
       "      <td>0.000000</td>\n",
       "    </tr>\n",
       "    <tr>\n",
       "      <th>50%</th>\n",
       "      <td>1.569074e+07</td>\n",
       "      <td>652.000000</td>\n",
       "      <td>37.000000</td>\n",
       "      <td>5.000000</td>\n",
       "      <td>97198.540000</td>\n",
       "      <td>1.000000</td>\n",
       "      <td>1.00000</td>\n",
       "      <td>1.000000</td>\n",
       "      <td>100193.915000</td>\n",
       "      <td>0.000000</td>\n",
       "    </tr>\n",
       "    <tr>\n",
       "      <th>75%</th>\n",
       "      <td>1.575323e+07</td>\n",
       "      <td>718.000000</td>\n",
       "      <td>44.000000</td>\n",
       "      <td>7.000000</td>\n",
       "      <td>127644.240000</td>\n",
       "      <td>2.000000</td>\n",
       "      <td>1.00000</td>\n",
       "      <td>1.000000</td>\n",
       "      <td>149388.247500</td>\n",
       "      <td>0.000000</td>\n",
       "    </tr>\n",
       "    <tr>\n",
       "      <th>max</th>\n",
       "      <td>1.581569e+07</td>\n",
       "      <td>850.000000</td>\n",
       "      <td>92.000000</td>\n",
       "      <td>10.000000</td>\n",
       "      <td>250898.090000</td>\n",
       "      <td>4.000000</td>\n",
       "      <td>1.00000</td>\n",
       "      <td>1.000000</td>\n",
       "      <td>199992.480000</td>\n",
       "      <td>1.000000</td>\n",
       "    </tr>\n",
       "  </tbody>\n",
       "</table>\n",
       "</div>"
      ],
      "text/plain": [
       "         CustomerId   CreditScore           Age        Tenure        Balance  \\\n",
       "count  1.000000e+04  10000.000000  10000.000000  10000.000000   10000.000000   \n",
       "mean   1.569094e+07    650.528800     38.921800      5.012800   76485.889288   \n",
       "std    7.193619e+04     96.653299     10.487806      2.892174   62397.405202   \n",
       "min    1.556570e+07    350.000000     18.000000      0.000000       0.000000   \n",
       "25%    1.562853e+07    584.000000     32.000000      3.000000       0.000000   \n",
       "50%    1.569074e+07    652.000000     37.000000      5.000000   97198.540000   \n",
       "75%    1.575323e+07    718.000000     44.000000      7.000000  127644.240000   \n",
       "max    1.581569e+07    850.000000     92.000000     10.000000  250898.090000   \n",
       "\n",
       "       NumOfProducts    HasCrCard  IsActiveMember  EstimatedSalary  \\\n",
       "count   10000.000000  10000.00000    10000.000000     10000.000000   \n",
       "mean        1.530200      0.70550        0.515100    100090.239881   \n",
       "std         0.581654      0.45584        0.499797     57510.492818   \n",
       "min         1.000000      0.00000        0.000000        11.580000   \n",
       "25%         1.000000      0.00000        0.000000     51002.110000   \n",
       "50%         1.000000      1.00000        1.000000    100193.915000   \n",
       "75%         2.000000      1.00000        1.000000    149388.247500   \n",
       "max         4.000000      1.00000        1.000000    199992.480000   \n",
       "\n",
       "             Exited  \n",
       "count  10000.000000  \n",
       "mean       0.203700  \n",
       "std        0.402769  \n",
       "min        0.000000  \n",
       "25%        0.000000  \n",
       "50%        0.000000  \n",
       "75%        0.000000  \n",
       "max        1.000000  "
      ]
     },
     "execution_count": 6,
     "metadata": {},
     "output_type": "execute_result"
    }
   ],
   "source": [
    "bank_data.describe()"
   ]
  },
  {
   "cell_type": "markdown",
   "id": "445e9357",
   "metadata": {},
   "source": [
    "#### information about data"
   ]
  },
  {
   "cell_type": "code",
   "execution_count": 7,
   "id": "01e1df0c",
   "metadata": {},
   "outputs": [
    {
     "name": "stdout",
     "output_type": "stream",
     "text": [
      "<class 'pandas.core.frame.DataFrame'>\n",
      "RangeIndex: 10000 entries, 0 to 9999\n",
      "Data columns (total 13 columns):\n",
      " #   Column           Non-Null Count  Dtype  \n",
      "---  ------           --------------  -----  \n",
      " 0   CustomerId       10000 non-null  int64  \n",
      " 1   Surname          10000 non-null  object \n",
      " 2   CreditScore      10000 non-null  int64  \n",
      " 3   Geography        10000 non-null  object \n",
      " 4   Gender           10000 non-null  object \n",
      " 5   Age              10000 non-null  int64  \n",
      " 6   Tenure           10000 non-null  int64  \n",
      " 7   Balance          10000 non-null  float64\n",
      " 8   NumOfProducts    10000 non-null  int64  \n",
      " 9   HasCrCard        10000 non-null  int64  \n",
      " 10  IsActiveMember   10000 non-null  int64  \n",
      " 11  EstimatedSalary  10000 non-null  float64\n",
      " 12  Exited           10000 non-null  int64  \n",
      "dtypes: float64(2), int64(8), object(3)\n",
      "memory usage: 1015.8+ KB\n"
     ]
    }
   ],
   "source": [
    "bank_data.info()"
   ]
  },
  {
   "cell_type": "code",
   "execution_count": 8,
   "id": "edaa15c4",
   "metadata": {},
   "outputs": [
    {
     "data": {
      "text/plain": [
       "Index(['CustomerId', 'Surname', 'CreditScore', 'Geography', 'Gender', 'Age',\n",
       "       'Tenure', 'Balance', 'NumOfProducts', 'HasCrCard', 'IsActiveMember',\n",
       "       'EstimatedSalary', 'Exited'],\n",
       "      dtype='object')"
      ]
     },
     "execution_count": 8,
     "metadata": {},
     "output_type": "execute_result"
    }
   ],
   "source": [
    "bank_data.columns"
   ]
  },
  {
   "cell_type": "markdown",
   "id": "018aabb9",
   "metadata": {},
   "source": [
    "#### the Data mining tasks"
   ]
  },
  {
   "cell_type": "markdown",
   "id": "29ef9944",
   "metadata": {},
   "source": [
    "#### missing data\n"
   ]
  },
  {
   "cell_type": "code",
   "execution_count": 9,
   "id": "b69fb5e7",
   "metadata": {},
   "outputs": [
    {
     "data": {
      "text/html": [
       "<div>\n",
       "<style scoped>\n",
       "    .dataframe tbody tr th:only-of-type {\n",
       "        vertical-align: middle;\n",
       "    }\n",
       "\n",
       "    .dataframe tbody tr th {\n",
       "        vertical-align: top;\n",
       "    }\n",
       "\n",
       "    .dataframe thead th {\n",
       "        text-align: right;\n",
       "    }\n",
       "</style>\n",
       "<table border=\"1\" class=\"dataframe\">\n",
       "  <thead>\n",
       "    <tr style=\"text-align: right;\">\n",
       "      <th></th>\n",
       "      <th>Total missing values</th>\n",
       "      <th>Percent</th>\n",
       "    </tr>\n",
       "  </thead>\n",
       "  <tbody>\n",
       "    <tr>\n",
       "      <th>CustomerId</th>\n",
       "      <td>0</td>\n",
       "      <td>0.0</td>\n",
       "    </tr>\n",
       "    <tr>\n",
       "      <th>Surname</th>\n",
       "      <td>0</td>\n",
       "      <td>0.0</td>\n",
       "    </tr>\n",
       "    <tr>\n",
       "      <th>CreditScore</th>\n",
       "      <td>0</td>\n",
       "      <td>0.0</td>\n",
       "    </tr>\n",
       "    <tr>\n",
       "      <th>Geography</th>\n",
       "      <td>0</td>\n",
       "      <td>0.0</td>\n",
       "    </tr>\n",
       "    <tr>\n",
       "      <th>Gender</th>\n",
       "      <td>0</td>\n",
       "      <td>0.0</td>\n",
       "    </tr>\n",
       "    <tr>\n",
       "      <th>Age</th>\n",
       "      <td>0</td>\n",
       "      <td>0.0</td>\n",
       "    </tr>\n",
       "    <tr>\n",
       "      <th>Tenure</th>\n",
       "      <td>0</td>\n",
       "      <td>0.0</td>\n",
       "    </tr>\n",
       "    <tr>\n",
       "      <th>Balance</th>\n",
       "      <td>0</td>\n",
       "      <td>0.0</td>\n",
       "    </tr>\n",
       "    <tr>\n",
       "      <th>NumOfProducts</th>\n",
       "      <td>0</td>\n",
       "      <td>0.0</td>\n",
       "    </tr>\n",
       "    <tr>\n",
       "      <th>HasCrCard</th>\n",
       "      <td>0</td>\n",
       "      <td>0.0</td>\n",
       "    </tr>\n",
       "    <tr>\n",
       "      <th>IsActiveMember</th>\n",
       "      <td>0</td>\n",
       "      <td>0.0</td>\n",
       "    </tr>\n",
       "    <tr>\n",
       "      <th>EstimatedSalary</th>\n",
       "      <td>0</td>\n",
       "      <td>0.0</td>\n",
       "    </tr>\n",
       "    <tr>\n",
       "      <th>Exited</th>\n",
       "      <td>0</td>\n",
       "      <td>0.0</td>\n",
       "    </tr>\n",
       "  </tbody>\n",
       "</table>\n",
       "</div>"
      ],
      "text/plain": [
       "                 Total missing values  Percent\n",
       "CustomerId                          0      0.0\n",
       "Surname                             0      0.0\n",
       "CreditScore                         0      0.0\n",
       "Geography                           0      0.0\n",
       "Gender                              0      0.0\n",
       "Age                                 0      0.0\n",
       "Tenure                              0      0.0\n",
       "Balance                             0      0.0\n",
       "NumOfProducts                       0      0.0\n",
       "HasCrCard                           0      0.0\n",
       "IsActiveMember                      0      0.0\n",
       "EstimatedSalary                     0      0.0\n",
       "Exited                              0      0.0"
      ]
     },
     "execution_count": 9,
     "metadata": {},
     "output_type": "execute_result"
    }
   ],
   "source": [
    "total = bank_data.isnull().sum().sort_values(ascending=False)\n",
    "percent = (bank_data.isnull().sum()/bank_data.isnull().count()).sort_values(ascending=False)\n",
    "missing_data = pd.concat([total, percent], axis=1, keys=['Total missing values', 'Percent'])\n",
    "missing_data.head(20)"
   ]
  },
  {
   "cell_type": "markdown",
   "id": "45317f02",
   "metadata": {},
   "source": [
    "#### checking for duplicate values\n"
   ]
  },
  {
   "cell_type": "code",
   "execution_count": 10,
   "id": "a0a32e07",
   "metadata": {},
   "outputs": [
    {
     "data": {
      "text/html": [
       "<div>\n",
       "<style scoped>\n",
       "    .dataframe tbody tr th:only-of-type {\n",
       "        vertical-align: middle;\n",
       "    }\n",
       "\n",
       "    .dataframe tbody tr th {\n",
       "        vertical-align: top;\n",
       "    }\n",
       "\n",
       "    .dataframe thead th {\n",
       "        text-align: right;\n",
       "    }\n",
       "</style>\n",
       "<table border=\"1\" class=\"dataframe\">\n",
       "  <thead>\n",
       "    <tr style=\"text-align: right;\">\n",
       "      <th></th>\n",
       "      <th>CustomerId</th>\n",
       "      <th>Surname</th>\n",
       "      <th>CreditScore</th>\n",
       "      <th>Geography</th>\n",
       "      <th>Gender</th>\n",
       "      <th>Age</th>\n",
       "      <th>Tenure</th>\n",
       "      <th>Balance</th>\n",
       "      <th>NumOfProducts</th>\n",
       "      <th>HasCrCard</th>\n",
       "      <th>IsActiveMember</th>\n",
       "      <th>EstimatedSalary</th>\n",
       "      <th>Exited</th>\n",
       "    </tr>\n",
       "  </thead>\n",
       "  <tbody>\n",
       "  </tbody>\n",
       "</table>\n",
       "</div>"
      ],
      "text/plain": [
       "Empty DataFrame\n",
       "Columns: [CustomerId, Surname, CreditScore, Geography, Gender, Age, Tenure, Balance, NumOfProducts, HasCrCard, IsActiveMember, EstimatedSalary, Exited]\n",
       "Index: []"
      ]
     },
     "execution_count": 10,
     "metadata": {},
     "output_type": "execute_result"
    }
   ],
   "source": [
    "bank_data[bank_data.duplicated()]"
   ]
  },
  {
   "cell_type": "markdown",
   "id": "6fda7e4a",
   "metadata": {},
   "source": [
    "#### Perform Exploratory Data Analysis (EDA)\n"
   ]
  },
  {
   "cell_type": "code",
   "execution_count": 11,
   "id": "24d9dfe5",
   "metadata": {},
   "outputs": [
    {
     "data": {
      "text/plain": [
       "CustomerId         10000\n",
       "Surname             2932\n",
       "CreditScore          460\n",
       "Geography             11\n",
       "Gender                 2\n",
       "Age                   70\n",
       "Tenure                11\n",
       "Balance             6382\n",
       "NumOfProducts          4\n",
       "HasCrCard              2\n",
       "IsActiveMember         2\n",
       "EstimatedSalary     9999\n",
       "Exited                 2\n",
       "dtype: int64"
      ]
     },
     "execution_count": 11,
     "metadata": {},
     "output_type": "execute_result"
    }
   ],
   "source": [
    "# Get unique count for each variable\n",
    "bank_data.nunique()"
   ]
  },
  {
   "cell_type": "code",
   "execution_count": 12,
   "id": "33d527fd",
   "metadata": {},
   "outputs": [],
   "source": [
    "bank_data=bank_data.drop(['Surname'], axis = 1)"
   ]
  },
  {
   "cell_type": "markdown",
   "id": "f90ffed6",
   "metadata": {},
   "source": [
    "#### 1)spearating categorical and numerical columns\n"
   ]
  },
  {
   "cell_type": "code",
   "execution_count": 13,
   "id": "14dc6bf4",
   "metadata": {},
   "outputs": [],
   "source": [
    "def separate_data_types(data):\n",
    "    categorical=[]\n",
    "    continuous=[]\n",
    "    for column in data.columns:\n",
    "        if data[column].nunique()<10:\n",
    "            categorical.append(column)\n",
    "        else:\n",
    "            continuous.append(column)\n",
    "    return categorical,continuous\n",
    "\n",
    "\n"
   ]
  },
  {
   "cell_type": "code",
   "execution_count": 14,
   "id": "f93d035e",
   "metadata": {
    "scrolled": true
   },
   "outputs": [
    {
     "name": "stdout",
     "output_type": "stream",
     "text": [
      "categorical     continuous\n",
      "--------------  ---------------\n",
      "Gender          CustomerId\n",
      "NumOfProducts   CreditScore\n",
      "HasCrCard       Geography\n",
      "IsActiveMember  Age\n",
      "Exited          Tenure\n",
      "                Balance\n",
      "                EstimatedSalary\n"
     ]
    }
   ],
   "source": [
    "categorical,continuous=separate_data_types(bank_data)\n",
    "from tabulate import tabulate\n",
    "table=[categorical,continuous]\n",
    "print(tabulate({\"categorical\":categorical,\"continuous\":continuous},headers=[\"categorical\",\"continuous\"]))\n"
   ]
  },
  {
   "cell_type": "code",
   "execution_count": 15,
   "id": "672ed706",
   "metadata": {},
   "outputs": [],
   "source": [
    "continuous.remove(\"Geography\")\n",
    "categorical.append(\"Geography\")\n"
   ]
  },
  {
   "cell_type": "code",
   "execution_count": 16,
   "id": "b9f673ef",
   "metadata": {},
   "outputs": [
    {
     "name": "stdout",
     "output_type": "stream",
     "text": [
      "categorical     continuous\n",
      "--------------  ---------------\n",
      "Gender          CustomerId\n",
      "NumOfProducts   CreditScore\n",
      "HasCrCard       Age\n",
      "IsActiveMember  Tenure\n",
      "Exited          Balance\n",
      "Geography       EstimatedSalary\n"
     ]
    }
   ],
   "source": [
    "\n",
    "print(tabulate({\"categorical\":categorical,\"continuous\":continuous},headers=[\"categorical\",\"continuous\"]))\n"
   ]
  },
  {
   "cell_type": "code",
   "execution_count": 17,
   "id": "ddcdb458",
   "metadata": {},
   "outputs": [
    {
     "data": {
      "text/plain": [
       "(10000, 12)"
      ]
     },
     "execution_count": 17,
     "metadata": {},
     "output_type": "execute_result"
    }
   ],
   "source": [
    "bank_data.shape"
   ]
  },
  {
   "cell_type": "markdown",
   "id": "75a5bf49",
   "metadata": {},
   "source": [
    "#### checking for  outliers"
   ]
  },
  {
   "cell_type": "code",
   "execution_count": 18,
   "id": "587b5871",
   "metadata": {},
   "outputs": [],
   "source": [
    "import numpy as np"
   ]
  },
  {
   "cell_type": "code",
   "execution_count": 19,
   "id": "0c243db0",
   "metadata": {},
   "outputs": [
    {
     "name": "stdout",
     "output_type": "stream",
     "text": [
      "row and columns before removing outliers: (10000, 12)\n",
      "wait till shape after removing outlier is printed...\n"
     ]
    }
   ],
   "source": [
    "\n",
    "print('row and columns before removing outliers:',bank_data.shape)\n",
    "print('wait till shape after removing outlier is printed...')\n",
    "\n",
    "def myOutliers(data1,col):\n",
    "    q3=np.quantile(data1[col],0.75)\n",
    "    q1=np.quantile(data1[col],0.25)\n",
    "    iqr=q3-q1\n",
    "    \n",
    "    global mylist\n",
    "    global my_outlier_data\n",
    "    \n",
    "    lower_range=q1-1.5*iqr\n",
    "    upper_range=q3+1.5*iqr \n",
    "    \n",
    "    print('the lower range of',col,'is',lower_range)\n",
    "    print('the upper range of',col,'is',upper_range)\n",
    "    \n",
    "    mylist=[x for x in data1[col] if ((x<lower_range)|(x>upper_range))]\n",
    "    print('total outliers in',col,'are',len(mylist))\n",
    "    my_outlier_data=data1.loc[data1[col].isin(mylist)]\n",
    "    \n",
    "\n"
   ]
  },
  {
   "cell_type": "code",
   "execution_count": 20,
   "id": "fc0ce6c3",
   "metadata": {},
   "outputs": [
    {
     "name": "stdout",
     "output_type": "stream",
     "text": [
      "i is CustomerId\n",
      "the lower range of CustomerId is 15441470.0\n",
      "the upper range of CustomerId is 15940292.0\n",
      "total outliers in CustomerId are 0\n",
      "***************************************************\n",
      "i is CreditScore\n",
      "the lower range of CreditScore is 383.0\n",
      "the upper range of CreditScore is 919.0\n",
      "total outliers in CreditScore are 15\n",
      "***************************************************\n",
      "i is Age\n",
      "the lower range of Age is 14.0\n",
      "the upper range of Age is 62.0\n",
      "total outliers in Age are 359\n",
      "***************************************************\n",
      "i is Tenure\n",
      "the lower range of Tenure is -3.0\n",
      "the upper range of Tenure is 13.0\n",
      "total outliers in Tenure are 0\n",
      "***************************************************\n",
      "i is Balance\n",
      "the lower range of Balance is -191466.36000000002\n",
      "the upper range of Balance is 319110.60000000003\n",
      "total outliers in Balance are 0\n",
      "***************************************************\n",
      "i is EstimatedSalary\n",
      "the lower range of EstimatedSalary is -96577.09624999999\n",
      "the upper range of EstimatedSalary is 296967.45375\n",
      "total outliers in EstimatedSalary are 0\n",
      "***************************************************\n"
     ]
    }
   ],
   "source": [
    "for i in continuous:\n",
    "    print('i is',i)\n",
    "    myOutliers(bank_data,i)\n",
    "    print('***************************************************')"
   ]
  },
  {
   "cell_type": "code",
   "execution_count": 21,
   "id": "1044144f",
   "metadata": {},
   "outputs": [
    {
     "data": {
      "text/html": [
       "<div>\n",
       "<style scoped>\n",
       "    .dataframe tbody tr th:only-of-type {\n",
       "        vertical-align: middle;\n",
       "    }\n",
       "\n",
       "    .dataframe tbody tr th {\n",
       "        vertical-align: top;\n",
       "    }\n",
       "\n",
       "    .dataframe thead th {\n",
       "        text-align: right;\n",
       "    }\n",
       "</style>\n",
       "<table border=\"1\" class=\"dataframe\">\n",
       "  <thead>\n",
       "    <tr style=\"text-align: right;\">\n",
       "      <th></th>\n",
       "      <th>CustomerId</th>\n",
       "      <th>CreditScore</th>\n",
       "      <th>Geography</th>\n",
       "      <th>Gender</th>\n",
       "      <th>Age</th>\n",
       "      <th>Tenure</th>\n",
       "      <th>Balance</th>\n",
       "      <th>NumOfProducts</th>\n",
       "      <th>HasCrCard</th>\n",
       "      <th>IsActiveMember</th>\n",
       "      <th>EstimatedSalary</th>\n",
       "      <th>Exited</th>\n",
       "    </tr>\n",
       "  </thead>\n",
       "  <tbody>\n",
       "    <tr>\n",
       "      <th>0</th>\n",
       "      <td>15634602</td>\n",
       "      <td>619</td>\n",
       "      <td>France</td>\n",
       "      <td>Female</td>\n",
       "      <td>42</td>\n",
       "      <td>2</td>\n",
       "      <td>0.00</td>\n",
       "      <td>1</td>\n",
       "      <td>1</td>\n",
       "      <td>1</td>\n",
       "      <td>101348.88</td>\n",
       "      <td>1</td>\n",
       "    </tr>\n",
       "    <tr>\n",
       "      <th>1</th>\n",
       "      <td>15647311</td>\n",
       "      <td>608</td>\n",
       "      <td>Spain</td>\n",
       "      <td>Female</td>\n",
       "      <td>41</td>\n",
       "      <td>1</td>\n",
       "      <td>83807.86</td>\n",
       "      <td>1</td>\n",
       "      <td>0</td>\n",
       "      <td>1</td>\n",
       "      <td>112542.58</td>\n",
       "      <td>0</td>\n",
       "    </tr>\n",
       "    <tr>\n",
       "      <th>2</th>\n",
       "      <td>15619304</td>\n",
       "      <td>502</td>\n",
       "      <td>France</td>\n",
       "      <td>Female</td>\n",
       "      <td>42</td>\n",
       "      <td>8</td>\n",
       "      <td>159660.80</td>\n",
       "      <td>3</td>\n",
       "      <td>1</td>\n",
       "      <td>0</td>\n",
       "      <td>113931.57</td>\n",
       "      <td>1</td>\n",
       "    </tr>\n",
       "    <tr>\n",
       "      <th>3</th>\n",
       "      <td>15701354</td>\n",
       "      <td>699</td>\n",
       "      <td>France</td>\n",
       "      <td>Female</td>\n",
       "      <td>39</td>\n",
       "      <td>1</td>\n",
       "      <td>0.00</td>\n",
       "      <td>2</td>\n",
       "      <td>0</td>\n",
       "      <td>0</td>\n",
       "      <td>93826.63</td>\n",
       "      <td>0</td>\n",
       "    </tr>\n",
       "    <tr>\n",
       "      <th>4</th>\n",
       "      <td>15737888</td>\n",
       "      <td>850</td>\n",
       "      <td>Spain</td>\n",
       "      <td>Female</td>\n",
       "      <td>43</td>\n",
       "      <td>2</td>\n",
       "      <td>125510.82</td>\n",
       "      <td>1</td>\n",
       "      <td>1</td>\n",
       "      <td>1</td>\n",
       "      <td>79084.10</td>\n",
       "      <td>0</td>\n",
       "    </tr>\n",
       "    <tr>\n",
       "      <th>...</th>\n",
       "      <td>...</td>\n",
       "      <td>...</td>\n",
       "      <td>...</td>\n",
       "      <td>...</td>\n",
       "      <td>...</td>\n",
       "      <td>...</td>\n",
       "      <td>...</td>\n",
       "      <td>...</td>\n",
       "      <td>...</td>\n",
       "      <td>...</td>\n",
       "      <td>...</td>\n",
       "      <td>...</td>\n",
       "    </tr>\n",
       "    <tr>\n",
       "      <th>9995</th>\n",
       "      <td>15606229</td>\n",
       "      <td>771</td>\n",
       "      <td>France</td>\n",
       "      <td>Male</td>\n",
       "      <td>39</td>\n",
       "      <td>5</td>\n",
       "      <td>0.00</td>\n",
       "      <td>2</td>\n",
       "      <td>1</td>\n",
       "      <td>0</td>\n",
       "      <td>96270.64</td>\n",
       "      <td>0</td>\n",
       "    </tr>\n",
       "    <tr>\n",
       "      <th>9996</th>\n",
       "      <td>15569892</td>\n",
       "      <td>516</td>\n",
       "      <td>France</td>\n",
       "      <td>Male</td>\n",
       "      <td>35</td>\n",
       "      <td>10</td>\n",
       "      <td>57369.61</td>\n",
       "      <td>1</td>\n",
       "      <td>1</td>\n",
       "      <td>1</td>\n",
       "      <td>101699.77</td>\n",
       "      <td>0</td>\n",
       "    </tr>\n",
       "    <tr>\n",
       "      <th>9997</th>\n",
       "      <td>15584532</td>\n",
       "      <td>709</td>\n",
       "      <td>France</td>\n",
       "      <td>Female</td>\n",
       "      <td>36</td>\n",
       "      <td>7</td>\n",
       "      <td>0.00</td>\n",
       "      <td>1</td>\n",
       "      <td>0</td>\n",
       "      <td>1</td>\n",
       "      <td>42085.58</td>\n",
       "      <td>1</td>\n",
       "    </tr>\n",
       "    <tr>\n",
       "      <th>9998</th>\n",
       "      <td>15682355</td>\n",
       "      <td>772</td>\n",
       "      <td>Germany</td>\n",
       "      <td>Male</td>\n",
       "      <td>42</td>\n",
       "      <td>3</td>\n",
       "      <td>75075.31</td>\n",
       "      <td>2</td>\n",
       "      <td>1</td>\n",
       "      <td>0</td>\n",
       "      <td>92888.52</td>\n",
       "      <td>1</td>\n",
       "    </tr>\n",
       "    <tr>\n",
       "      <th>9999</th>\n",
       "      <td>15628319</td>\n",
       "      <td>792</td>\n",
       "      <td>France</td>\n",
       "      <td>Female</td>\n",
       "      <td>28</td>\n",
       "      <td>4</td>\n",
       "      <td>130142.79</td>\n",
       "      <td>1</td>\n",
       "      <td>1</td>\n",
       "      <td>0</td>\n",
       "      <td>38190.78</td>\n",
       "      <td>0</td>\n",
       "    </tr>\n",
       "  </tbody>\n",
       "</table>\n",
       "<p>10000 rows × 12 columns</p>\n",
       "</div>"
      ],
      "text/plain": [
       "      CustomerId  CreditScore Geography  Gender  Age  Tenure    Balance  \\\n",
       "0       15634602          619    France  Female   42       2       0.00   \n",
       "1       15647311          608     Spain  Female   41       1   83807.86   \n",
       "2       15619304          502    France  Female   42       8  159660.80   \n",
       "3       15701354          699    France  Female   39       1       0.00   \n",
       "4       15737888          850     Spain  Female   43       2  125510.82   \n",
       "...          ...          ...       ...     ...  ...     ...        ...   \n",
       "9995    15606229          771    France    Male   39       5       0.00   \n",
       "9996    15569892          516    France    Male   35      10   57369.61   \n",
       "9997    15584532          709    France  Female   36       7       0.00   \n",
       "9998    15682355          772   Germany    Male   42       3   75075.31   \n",
       "9999    15628319          792    France  Female   28       4  130142.79   \n",
       "\n",
       "      NumOfProducts  HasCrCard  IsActiveMember  EstimatedSalary  Exited  \n",
       "0                 1          1               1        101348.88       1  \n",
       "1                 1          0               1        112542.58       0  \n",
       "2                 3          1               0        113931.57       1  \n",
       "3                 2          0               0         93826.63       0  \n",
       "4                 1          1               1         79084.10       0  \n",
       "...             ...        ...             ...              ...     ...  \n",
       "9995              2          1               0         96270.64       0  \n",
       "9996              1          1               1        101699.77       0  \n",
       "9997              1          0               1         42085.58       1  \n",
       "9998              2          1               0         92888.52       1  \n",
       "9999              1          1               0         38190.78       0  \n",
       "\n",
       "[10000 rows x 12 columns]"
      ]
     },
     "execution_count": 21,
     "metadata": {},
     "output_type": "execute_result"
    }
   ],
   "source": [
    "bank_data"
   ]
  },
  {
   "cell_type": "code",
   "execution_count": 22,
   "id": "48c4e664",
   "metadata": {},
   "outputs": [],
   "source": [
    "import matplotlib.pyplot as plt\n",
    "import seaborn as sns"
   ]
  },
  {
   "cell_type": "code",
   "execution_count": 23,
   "id": "3d10115e",
   "metadata": {},
   "outputs": [
    {
     "data": {
      "image/png": "[encoded data removed]",
      "text/plain": [
       "<Figure size 1080x504 with 2 Axes>"
      ]
     },
     "metadata": {
      "needs_background": "light"
     },
     "output_type": "display_data"
    }
   ],
   "source": [
    "fig,ax=plt.subplots(1,2,figsize=(15,7))\n",
    "sns.boxplot(y=bank_data['CreditScore'],ax=ax[0]).set(title='CreditScore')\n",
    "sns.boxplot(y=bank_data['Age'],ax=ax[1]).set(title='Age')\n",
    "plt.show()"
   ]
  },
  {
   "cell_type": "markdown",
   "id": "2047b42b",
   "metadata": {},
   "source": [
    "#### No need to remove outliers from this two feature because if we delete these records than we may loose important information about the customer to it is advisable not to delete this records."
   ]
  },
  {
   "cell_type": "markdown",
   "id": "4556eb47",
   "metadata": {},
   "source": [
    "#### EDA"
   ]
  },
  {
   "cell_type": "markdown",
   "id": "63193025",
   "metadata": {},
   "source": [
    "### Univariate analysis "
   ]
  },
  {
   "cell_type": "code",
   "execution_count": 24,
   "id": "ba8c9d52",
   "metadata": {},
   "outputs": [
    {
     "data": {
      "image/png": "[encoded data removed]",
      "text/plain": [
       "<Figure size 720x576 with 1 Axes>"
      ]
     },
     "metadata": {},
     "output_type": "display_data"
    }
   ],
   "source": [
    "labels = 'Exited', 'Retained'\n",
    "sizes = [bank_data.Exited[bank_data['Exited']==1].count(), bank_data.Exited[bank_data['Exited']==0].count()]\n",
    "explode = (0.1,0.001)\n",
    "fig1, ax1 = plt.subplots(figsize=(10, 8))\n",
    "ax1.pie(sizes, explode=explode, labels=labels, autopct='%1.2f%%')\n",
    "plt.title(\"pie chart for customer  who Exited and retained\", size = 15)\n",
    "plt.show()"
   ]
  },
  {
   "cell_type": "markdown",
   "id": "0e389d5a",
   "metadata": {},
   "source": [
    "## plotting for numerical columns"
   ]
  },
  {
   "cell_type": "code",
   "execution_count": 25,
   "id": "289e5b59",
   "metadata": {},
   "outputs": [
    {
     "data": {
      "image/png": "[encoded data removed]",
      "text/plain": [
       "<Figure size 1080x504 with 2 Axes>"
      ]
     },
     "metadata": {
      "needs_background": "light"
     },
     "output_type": "display_data"
    }
   ],
   "source": [
    "fig,ax=plt.subplots(1,2,figsize=(15,7))\n",
    "sns.histplot(x=bank_data['Balance'],ax=ax[0],color='g')\n",
    "sns.boxplot(y=bank_data['Balance'],ax=ax[1]).set(title='Balance')\n",
    "plt.show()"
   ]
  },
  {
   "cell_type": "code",
   "execution_count": 26,
   "id": "28921106",
   "metadata": {},
   "outputs": [
    {
     "data": {
      "image/png": "[encoded data removed]",
      "text/plain": [
       "<Figure size 1080x504 with 2 Axes>"
      ]
     },
     "metadata": {
      "needs_background": "light"
     },
     "output_type": "display_data"
    }
   ],
   "source": [
    "fig,ax=plt.subplots(1,2,figsize=(15,7))\n",
    "sns.histplot(x=bank_data['EstimatedSalary'],ax=ax[0],color='g')\n",
    "sns.boxplot(y=bank_data['EstimatedSalary'],ax=ax[1]).set(title='EstimatedSalary')\n",
    "plt.show()"
   ]
  },
  {
   "cell_type": "code",
   "execution_count": 27,
   "id": "91a39973",
   "metadata": {},
   "outputs": [
    {
     "data": {
      "image/png": "[encoded data removed]",
      "text/plain": [
       "<Figure size 1080x504 with 2 Axes>"
      ]
     },
     "metadata": {
      "needs_background": "light"
     },
     "output_type": "display_data"
    }
   ],
   "source": [
    "fig,ax=plt.subplots(1,2,figsize=(15,7))\n",
    "sns.histplot(x=bank_data['Age'],ax=ax[0],color='g')\n",
    "sns.boxplot(y=bank_data['Age'],ax=ax[1]).set(title='AGE')\n",
    "plt.show()"
   ]
  },
  {
   "cell_type": "code",
   "execution_count": 28,
   "id": "5365386a",
   "metadata": {},
   "outputs": [
    {
     "data": {
      "image/png": "[encoded data removed]",
      "text/plain": [
       "<Figure size 1080x504 with 2 Axes>"
      ]
     },
     "metadata": {
      "needs_background": "light"
     },
     "output_type": "display_data"
    }
   ],
   "source": [
    "fig,ax=plt.subplots(1,2,figsize=(15,7))\n",
    "sns.histplot(x=bank_data['CreditScore'],ax=ax[0],color='g')\n",
    "sns.boxplot(y=bank_data['CreditScore'],ax=ax[1]).set(title='CreditScore')\n",
    "plt.show()"
   ]
  },
  {
   "cell_type": "markdown",
   "id": "ad4713ea",
   "metadata": {},
   "source": [
    "### bivariate"
   ]
  },
  {
   "cell_type": "code",
   "execution_count": 29,
   "id": "4754633e",
   "metadata": {
    "scrolled": true
   },
   "outputs": [
    {
     "data": {
      "text/plain": [
       "['Gender',\n",
       " 'NumOfProducts',\n",
       " 'HasCrCard',\n",
       " 'IsActiveMember',\n",
       " 'Exited',\n",
       " 'Geography']"
      ]
     },
     "execution_count": 29,
     "metadata": {},
     "output_type": "execute_result"
    }
   ],
   "source": [
    "categorical"
   ]
  },
  {
   "cell_type": "code",
   "execution_count": 30,
   "id": "edbf262a",
   "metadata": {},
   "outputs": [
    {
     "data": {
      "text/plain": [
       "<AxesSubplot:xlabel='IsActiveMember', ylabel='count'>"
      ]
     },
     "execution_count": 30,
     "metadata": {},
     "output_type": "execute_result"
    },
    {
     "data": {
      "image/png": "[encoded data removed]",
      "text/plain": [
       "<Figure size 1440x864 with 4 Axes>"
      ]
     },
     "metadata": {
      "needs_background": "light"
     },
     "output_type": "display_data"
    }
   ],
   "source": [
    "    # We first review the 'Status' relation with categorical variables\n",
    "    fig, axarr = plt.subplots(2, 2, figsize=(20, 12))\n",
    "    sns.countplot(x='IsActiveMember', hue = 'Exited',data = bank_data, ax=axarr[0][0])\n",
    "    sns.countplot(x='Gender', hue = 'Exited',data = bank_data, ax=axarr[0][1])\n",
    "    sns.countplot(x='HasCrCard', hue = 'Exited',data = bank_data, ax=axarr[1][0])\n",
    "    sns.countplot(x='IsActiveMember', hue = 'Exited',data = bank_data,ax=axarr[1][1])\n",
    "    "
   ]
  },
  {
   "cell_type": "markdown",
   "id": "6c8324c3",
   "metadata": {},
   "source": [
    "#### female customers churning is also greater than that of male customers"
   ]
  },
  {
   "cell_type": "markdown",
   "id": "933fbc9d",
   "metadata": {},
   "source": [
    "#### majority of the customers that churned are those with credit cards"
   ]
  },
  {
   "cell_type": "markdown",
   "id": "7840d466",
   "metadata": {},
   "source": [
    "#### large crowd who is churning is not active member"
   ]
  },
  {
   "cell_type": "markdown",
   "id": "f4f388da",
   "metadata": {},
   "source": [
    "#### droping incorrectly filled rows "
   ]
  },
  {
   "cell_type": "code",
   "execution_count": 31,
   "id": "57a02ae0",
   "metadata": {},
   "outputs": [],
   "source": [
    "wrong_words=['espanio','fra','ger','gernamy','france','spain','germany','GERMANY']"
   ]
  },
  {
   "cell_type": "code",
   "execution_count": 32,
   "id": "02193ffe",
   "metadata": {},
   "outputs": [
    {
     "name": "stdout",
     "output_type": "stream",
     "text": [
      "[5, 251, 1416, 1948, 2590, 4515]\n",
      "[6, 154, 600, 1089, 1372, 3611]\n",
      "[159, 390, 6399, 9255]\n",
      "[1027]\n",
      "[71, 128, 324, 684, 782, 905, 3727]\n",
      "[407, 4319]\n",
      "[792]\n",
      "[9499]\n"
     ]
    }
   ],
   "source": [
    "\n",
    "for i in wrong_words:\n",
    "    L_1=[]\n",
    "    L_1=bank_data.index[bank_data['Geography']==i].tolist()\n",
    "    print(L_1)\n",
    "    bank_data = bank_data.drop(index=L_1)"
   ]
  },
  {
   "cell_type": "code",
   "execution_count": 33,
   "id": "106c107c",
   "metadata": {},
   "outputs": [
    {
     "data": {
      "text/plain": [
       "(9972, 12)"
      ]
     },
     "execution_count": 33,
     "metadata": {},
     "output_type": "execute_result"
    }
   ],
   "source": [
    "bank_data.shape"
   ]
  },
  {
   "cell_type": "code",
   "execution_count": 34,
   "id": "084f733b",
   "metadata": {},
   "outputs": [
    {
     "data": {
      "text/plain": [
       "<AxesSubplot:xlabel='Geography', ylabel='count'>"
      ]
     },
     "execution_count": 34,
     "metadata": {},
     "output_type": "execute_result"
    },
    {
     "data": {
      "image/png": "[encoded data removed]",
      "text/plain": [
       "<Figure size 1440x864 with 1 Axes>"
      ]
     },
     "metadata": {
      "needs_background": "light"
     },
     "output_type": "display_data"
    }
   ],
   "source": [
    "fig, axarr = plt.subplots(figsize=(20, 12))\n",
    "sns.countplot(x='Geography', hue = 'Exited',data = bank_data)"
   ]
  },
  {
   "cell_type": "markdown",
   "id": "de4d0edb",
   "metadata": {},
   "source": [
    "#### interpretation:majority of populations are leaving from France and germany\n"
   ]
  },
  {
   "cell_type": "markdown",
   "id": "a3e7159e",
   "metadata": {},
   "source": [
    "### Multivariate"
   ]
  },
  {
   "cell_type": "code",
   "execution_count": 35,
   "id": "98009c05",
   "metadata": {},
   "outputs": [
    {
     "data": {
      "image/png": "[encoded data removed]",
      "text/plain": [
       "<Figure size 720x504 with 1 Axes>"
      ]
     },
     "metadata": {
      "needs_background": "light"
     },
     "output_type": "display_data"
    }
   ],
   "source": [
    "fig,ax= plt.subplots(figsize=(10,7))\n",
    "sns.barplot(x=bank_data['Exited'],y=bank_data['EstimatedSalary'],hue=bank_data['Gender'],ci=None,ax=ax)\n",
    "count=len(bank_data['Exited'])\n",
    "\n",
    "for bar in ax.patches:\n",
    "    percentage = f'{round((bar.get_height()/count),2)}%'\n",
    "    \n",
    "    x=bar.get_x()+bar.get_width()/2\n",
    "    y=bar.get_height()\n",
    "    ax.annotate(percentage,(x,y),ha='center',va='top')\n",
    "    \n",
    "plt.show()\n"
   ]
  },
  {
   "cell_type": "markdown",
   "id": "77a14a6d",
   "metadata": {},
   "source": [
    "### Data quality  | Detect correlations"
   ]
  },
  {
   "cell_type": "code",
   "execution_count": 36,
   "id": "541e7d11",
   "metadata": {
    "scrolled": true
   },
   "outputs": [
    {
     "data": {
      "text/html": [
       "<div>\n",
       "<style scoped>\n",
       "    .dataframe tbody tr th:only-of-type {\n",
       "        vertical-align: middle;\n",
       "    }\n",
       "\n",
       "    .dataframe tbody tr th {\n",
       "        vertical-align: top;\n",
       "    }\n",
       "\n",
       "    .dataframe thead th {\n",
       "        text-align: right;\n",
       "    }\n",
       "</style>\n",
       "<table border=\"1\" class=\"dataframe\">\n",
       "  <thead>\n",
       "    <tr style=\"text-align: right;\">\n",
       "      <th></th>\n",
       "      <th>CustomerId</th>\n",
       "      <th>CreditScore</th>\n",
       "      <th>Age</th>\n",
       "      <th>Tenure</th>\n",
       "      <th>Balance</th>\n",
       "      <th>NumOfProducts</th>\n",
       "      <th>HasCrCard</th>\n",
       "      <th>IsActiveMember</th>\n",
       "      <th>EstimatedSalary</th>\n",
       "      <th>Exited</th>\n",
       "    </tr>\n",
       "  </thead>\n",
       "  <tbody>\n",
       "    <tr>\n",
       "      <th>CustomerId</th>\n",
       "      <td>1.000000</td>\n",
       "      <td>0.006043</td>\n",
       "      <td>0.010323</td>\n",
       "      <td>-0.014559</td>\n",
       "      <td>-0.013717</td>\n",
       "      <td>0.018265</td>\n",
       "      <td>-0.013469</td>\n",
       "      <td>0.001041</td>\n",
       "      <td>0.014960</td>\n",
       "      <td>-0.005947</td>\n",
       "    </tr>\n",
       "    <tr>\n",
       "      <th>CreditScore</th>\n",
       "      <td>0.006043</td>\n",
       "      <td>1.000000</td>\n",
       "      <td>-0.003637</td>\n",
       "      <td>0.000529</td>\n",
       "      <td>0.005715</td>\n",
       "      <td>0.012424</td>\n",
       "      <td>-0.006630</td>\n",
       "      <td>0.025923</td>\n",
       "      <td>-0.001396</td>\n",
       "      <td>-0.027389</td>\n",
       "    </tr>\n",
       "    <tr>\n",
       "      <th>Age</th>\n",
       "      <td>0.010323</td>\n",
       "      <td>-0.003637</td>\n",
       "      <td>1.000000</td>\n",
       "      <td>-0.009640</td>\n",
       "      <td>0.029055</td>\n",
       "      <td>-0.031260</td>\n",
       "      <td>-0.011941</td>\n",
       "      <td>0.085415</td>\n",
       "      <td>-0.006287</td>\n",
       "      <td>0.285303</td>\n",
       "    </tr>\n",
       "    <tr>\n",
       "      <th>Tenure</th>\n",
       "      <td>-0.014559</td>\n",
       "      <td>0.000529</td>\n",
       "      <td>-0.009640</td>\n",
       "      <td>1.000000</td>\n",
       "      <td>-0.012448</td>\n",
       "      <td>0.013754</td>\n",
       "      <td>0.022907</td>\n",
       "      <td>-0.028441</td>\n",
       "      <td>0.006957</td>\n",
       "      <td>-0.014735</td>\n",
       "    </tr>\n",
       "    <tr>\n",
       "      <th>Balance</th>\n",
       "      <td>-0.013717</td>\n",
       "      <td>0.005715</td>\n",
       "      <td>0.029055</td>\n",
       "      <td>-0.012448</td>\n",
       "      <td>1.000000</td>\n",
       "      <td>-0.303955</td>\n",
       "      <td>-0.014636</td>\n",
       "      <td>-0.010449</td>\n",
       "      <td>0.012770</td>\n",
       "      <td>0.118366</td>\n",
       "    </tr>\n",
       "    <tr>\n",
       "      <th>NumOfProducts</th>\n",
       "      <td>0.018265</td>\n",
       "      <td>0.012424</td>\n",
       "      <td>-0.031260</td>\n",
       "      <td>0.013754</td>\n",
       "      <td>-0.303955</td>\n",
       "      <td>1.000000</td>\n",
       "      <td>0.003085</td>\n",
       "      <td>0.010201</td>\n",
       "      <td>0.014626</td>\n",
       "      <td>-0.048752</td>\n",
       "    </tr>\n",
       "    <tr>\n",
       "      <th>HasCrCard</th>\n",
       "      <td>-0.013469</td>\n",
       "      <td>-0.006630</td>\n",
       "      <td>-0.011941</td>\n",
       "      <td>0.022907</td>\n",
       "      <td>-0.014636</td>\n",
       "      <td>0.003085</td>\n",
       "      <td>1.000000</td>\n",
       "      <td>-0.011374</td>\n",
       "      <td>-0.009633</td>\n",
       "      <td>-0.007115</td>\n",
       "    </tr>\n",
       "    <tr>\n",
       "      <th>IsActiveMember</th>\n",
       "      <td>0.001041</td>\n",
       "      <td>0.025923</td>\n",
       "      <td>0.085415</td>\n",
       "      <td>-0.028441</td>\n",
       "      <td>-0.010449</td>\n",
       "      <td>0.010201</td>\n",
       "      <td>-0.011374</td>\n",
       "      <td>1.000000</td>\n",
       "      <td>-0.011619</td>\n",
       "      <td>-0.156969</td>\n",
       "    </tr>\n",
       "    <tr>\n",
       "      <th>EstimatedSalary</th>\n",
       "      <td>0.014960</td>\n",
       "      <td>-0.001396</td>\n",
       "      <td>-0.006287</td>\n",
       "      <td>0.006957</td>\n",
       "      <td>0.012770</td>\n",
       "      <td>0.014626</td>\n",
       "      <td>-0.009633</td>\n",
       "      <td>-0.011619</td>\n",
       "      <td>1.000000</td>\n",
       "      <td>0.012326</td>\n",
       "    </tr>\n",
       "    <tr>\n",
       "      <th>Exited</th>\n",
       "      <td>-0.005947</td>\n",
       "      <td>-0.027389</td>\n",
       "      <td>0.285303</td>\n",
       "      <td>-0.014735</td>\n",
       "      <td>0.118366</td>\n",
       "      <td>-0.048752</td>\n",
       "      <td>-0.007115</td>\n",
       "      <td>-0.156969</td>\n",
       "      <td>0.012326</td>\n",
       "      <td>1.000000</td>\n",
       "    </tr>\n",
       "  </tbody>\n",
       "</table>\n",
       "</div>"
      ],
      "text/plain": [
       "                 CustomerId  CreditScore       Age    Tenure   Balance  \\\n",
       "CustomerId         1.000000     0.006043  0.010323 -0.014559 -0.013717   \n",
       "CreditScore        0.006043     1.000000 -0.003637  0.000529  0.005715   \n",
       "Age                0.010323    -0.003637  1.000000 -0.009640  0.029055   \n",
       "Tenure            -0.014559     0.000529 -0.009640  1.000000 -0.012448   \n",
       "Balance           -0.013717     0.005715  0.029055 -0.012448  1.000000   \n",
       "NumOfProducts      0.018265     0.012424 -0.031260  0.013754 -0.303955   \n",
       "HasCrCard         -0.013469    -0.006630 -0.011941  0.022907 -0.014636   \n",
       "IsActiveMember     0.001041     0.025923  0.085415 -0.028441 -0.010449   \n",
       "EstimatedSalary    0.014960    -0.001396 -0.006287  0.006957  0.012770   \n",
       "Exited            -0.005947    -0.027389  0.285303 -0.014735  0.118366   \n",
       "\n",
       "                 NumOfProducts  HasCrCard  IsActiveMember  EstimatedSalary  \\\n",
       "CustomerId            0.018265  -0.013469        0.001041         0.014960   \n",
       "CreditScore           0.012424  -0.006630        0.025923        -0.001396   \n",
       "Age                  -0.031260  -0.011941        0.085415        -0.006287   \n",
       "Tenure                0.013754   0.022907       -0.028441         0.006957   \n",
       "Balance              -0.303955  -0.014636       -0.010449         0.012770   \n",
       "NumOfProducts         1.000000   0.003085        0.010201         0.014626   \n",
       "HasCrCard             0.003085   1.000000       -0.011374        -0.009633   \n",
       "IsActiveMember        0.010201  -0.011374        1.000000        -0.011619   \n",
       "EstimatedSalary       0.014626  -0.009633       -0.011619         1.000000   \n",
       "Exited               -0.048752  -0.007115       -0.156969         0.012326   \n",
       "\n",
       "                   Exited  \n",
       "CustomerId      -0.005947  \n",
       "CreditScore     -0.027389  \n",
       "Age              0.285303  \n",
       "Tenure          -0.014735  \n",
       "Balance          0.118366  \n",
       "NumOfProducts   -0.048752  \n",
       "HasCrCard       -0.007115  \n",
       "IsActiveMember  -0.156969  \n",
       "EstimatedSalary  0.012326  \n",
       "Exited           1.000000  "
      ]
     },
     "execution_count": 36,
     "metadata": {},
     "output_type": "execute_result"
    }
   ],
   "source": [
    "column_correlation = bank_data.corr()\n",
    "column_correlation"
   ]
  },
  {
   "cell_type": "code",
   "execution_count": 37,
   "id": "01b28ceb",
   "metadata": {},
   "outputs": [
    {
     "data": {
      "text/plain": [
       "<AxesSubplot:>"
      ]
     },
     "execution_count": 37,
     "metadata": {},
     "output_type": "execute_result"
    },
    {
     "data": {
      "image/png": "[encoded data removed]",
      "text/plain": [
       "<Figure size 792x648 with 2 Axes>"
      ]
     },
     "metadata": {
      "needs_background": "light"
     },
     "output_type": "display_data"
    }
   ],
   "source": [
    "import numpy as np\n",
    "import seaborn as sns\n",
    "import matplotlib.pyplot as plt\n",
    "\n",
    "corr = bank_data.corr()\n",
    "\n",
    "# Generate a mask for the upper triangle\n",
    "mask = np.triu(np.ones_like(corr, dtype=bool))\n",
    "\n",
    "# Set up the matplotlib figure\n",
    "f, ax = plt.subplots(figsize=(11, 9))\n",
    "\n",
    "# Generate a custom diverging colormap\n",
    "cmap = sns.diverging_palette(230, 20, as_cmap=True)\n",
    "\n",
    "# Draw the heatmap with the mask and correct aspect ratio\n",
    "sns.heatmap(corr, mask=mask, cmap=cmap, vmax=.3, center=0,square=True, linewidths=.5, cbar_kws={\"shrink\": .5})"
   ]
  },
  {
   "cell_type": "code",
   "execution_count": 38,
   "id": "4af5ea34",
   "metadata": {},
   "outputs": [],
   "source": [
    "def corr_col(dependent): \n",
    "    #saleprice correlation matrix\n",
    "    k = len(corr.columns)\n",
    "    cols = corr.nlargest(k, dependent)[dependent].index\n",
    "    cm = np.corrcoef(bank_data[cols].values.T)\n",
    "    sns.set(font_scale=1.25)\n",
    "    f, ax = plt.subplots(figsize=(9, 9))\n",
    "    hm = sns.heatmap(cm, cbar=True, annot=True, square=True, fmt='.2f', annot_kws={'size': 10}, yticklabels=cols.values, xticklabels=cols.values)\n",
    "    plt.show()\n",
    "    d=zip(cm[0],cols)\n",
    "    l_1=[]\n",
    "    for _ in d:\n",
    "        l_1.append(_)\n",
    "    return(pd.DataFrame(l_1,columns=['Corr_value','Col_name']))"
   ]
  },
  {
   "cell_type": "code",
   "execution_count": 39,
   "id": "785f3bac",
   "metadata": {},
   "outputs": [
    {
     "data": {
      "image/png": "[encoded data removed]",
      "text/plain": [
       "<Figure size 648x648 with 2 Axes>"
      ]
     },
     "metadata": {},
     "output_type": "display_data"
    },
    {
     "data": {
      "text/html": [
       "<div>\n",
       "<style scoped>\n",
       "    .dataframe tbody tr th:only-of-type {\n",
       "        vertical-align: middle;\n",
       "    }\n",
       "\n",
       "    .dataframe tbody tr th {\n",
       "        vertical-align: top;\n",
       "    }\n",
       "\n",
       "    .dataframe thead th {\n",
       "        text-align: right;\n",
       "    }\n",
       "</style>\n",
       "<table border=\"1\" class=\"dataframe\">\n",
       "  <thead>\n",
       "    <tr style=\"text-align: right;\">\n",
       "      <th></th>\n",
       "      <th>Corr_value</th>\n",
       "      <th>Col_name</th>\n",
       "    </tr>\n",
       "  </thead>\n",
       "  <tbody>\n",
       "    <tr>\n",
       "      <th>0</th>\n",
       "      <td>1.000000</td>\n",
       "      <td>Exited</td>\n",
       "    </tr>\n",
       "    <tr>\n",
       "      <th>1</th>\n",
       "      <td>0.285303</td>\n",
       "      <td>Age</td>\n",
       "    </tr>\n",
       "    <tr>\n",
       "      <th>2</th>\n",
       "      <td>0.118366</td>\n",
       "      <td>Balance</td>\n",
       "    </tr>\n",
       "    <tr>\n",
       "      <th>3</th>\n",
       "      <td>0.012326</td>\n",
       "      <td>EstimatedSalary</td>\n",
       "    </tr>\n",
       "    <tr>\n",
       "      <th>4</th>\n",
       "      <td>-0.005947</td>\n",
       "      <td>CustomerId</td>\n",
       "    </tr>\n",
       "    <tr>\n",
       "      <th>5</th>\n",
       "      <td>-0.007115</td>\n",
       "      <td>HasCrCard</td>\n",
       "    </tr>\n",
       "    <tr>\n",
       "      <th>6</th>\n",
       "      <td>-0.014735</td>\n",
       "      <td>Tenure</td>\n",
       "    </tr>\n",
       "    <tr>\n",
       "      <th>7</th>\n",
       "      <td>-0.027389</td>\n",
       "      <td>CreditScore</td>\n",
       "    </tr>\n",
       "    <tr>\n",
       "      <th>8</th>\n",
       "      <td>-0.048752</td>\n",
       "      <td>NumOfProducts</td>\n",
       "    </tr>\n",
       "    <tr>\n",
       "      <th>9</th>\n",
       "      <td>-0.156969</td>\n",
       "      <td>IsActiveMember</td>\n",
       "    </tr>\n",
       "  </tbody>\n",
       "</table>\n",
       "</div>"
      ],
      "text/plain": [
       "   Corr_value         Col_name\n",
       "0    1.000000           Exited\n",
       "1    0.285303              Age\n",
       "2    0.118366          Balance\n",
       "3    0.012326  EstimatedSalary\n",
       "4   -0.005947       CustomerId\n",
       "5   -0.007115        HasCrCard\n",
       "6   -0.014735           Tenure\n",
       "7   -0.027389      CreditScore\n",
       "8   -0.048752    NumOfProducts\n",
       "9   -0.156969   IsActiveMember"
      ]
     },
     "execution_count": 39,
     "metadata": {},
     "output_type": "execute_result"
    }
   ],
   "source": [
    "corr_col('Exited')#name of dependent variable\n"
   ]
  },
  {
   "cell_type": "code",
   "execution_count": 40,
   "id": "a7f6275c",
   "metadata": {},
   "outputs": [
    {
     "data": {
      "text/plain": [
       "(9972, 12)"
      ]
     },
     "execution_count": 40,
     "metadata": {},
     "output_type": "execute_result"
    }
   ],
   "source": [
    "bank_data.shape"
   ]
  },
  {
   "cell_type": "code",
   "execution_count": null,
   "id": "853fd612",
   "metadata": {},
   "outputs": [],
   "source": []
  },
  {
   "cell_type": "code",
   "execution_count": 41,
   "id": "5af9e8c2",
   "metadata": {},
   "outputs": [],
   "source": [
    "#One Hot encoding\n",
    "bank_data = pd.get_dummies(bank_data, columns =[\"Geography\", \"Gender\"], drop_first = False)"
   ]
  },
  {
   "cell_type": "code",
   "execution_count": 42,
   "id": "764cc228",
   "metadata": {},
   "outputs": [
    {
     "data": {
      "text/plain": [
       "Index(['CustomerId', 'CreditScore', 'Age', 'Tenure', 'Balance',\n",
       "       'NumOfProducts', 'HasCrCard', 'IsActiveMember', 'EstimatedSalary',\n",
       "       'Exited', 'Geography_France', 'Geography_Germany', 'Geography_Spain',\n",
       "       'Gender_Female', 'Gender_Male'],\n",
       "      dtype='object')"
      ]
     },
     "execution_count": 42,
     "metadata": {},
     "output_type": "execute_result"
    }
   ],
   "source": [
    "bank_data.head().columns"
   ]
  },
  {
   "cell_type": "code",
   "execution_count": 43,
   "id": "4d4cb38e",
   "metadata": {},
   "outputs": [
    {
     "data": {
      "text/html": [
       "<div>\n",
       "<style scoped>\n",
       "    .dataframe tbody tr th:only-of-type {\n",
       "        vertical-align: middle;\n",
       "    }\n",
       "\n",
       "    .dataframe tbody tr th {\n",
       "        vertical-align: top;\n",
       "    }\n",
       "\n",
       "    .dataframe thead th {\n",
       "        text-align: right;\n",
       "    }\n",
       "</style>\n",
       "<table border=\"1\" class=\"dataframe\">\n",
       "  <thead>\n",
       "    <tr style=\"text-align: right;\">\n",
       "      <th></th>\n",
       "      <th>CustomerId</th>\n",
       "      <th>CreditScore</th>\n",
       "      <th>Age</th>\n",
       "      <th>Tenure</th>\n",
       "      <th>Balance</th>\n",
       "      <th>NumOfProducts</th>\n",
       "      <th>HasCrCard</th>\n",
       "      <th>IsActiveMember</th>\n",
       "      <th>EstimatedSalary</th>\n",
       "      <th>Exited</th>\n",
       "      <th>Geography_France</th>\n",
       "      <th>Geography_Germany</th>\n",
       "      <th>Geography_Spain</th>\n",
       "      <th>Gender_Female</th>\n",
       "      <th>Gender_Male</th>\n",
       "    </tr>\n",
       "  </thead>\n",
       "  <tbody>\n",
       "    <tr>\n",
       "      <th>0</th>\n",
       "      <td>15634602</td>\n",
       "      <td>619</td>\n",
       "      <td>42</td>\n",
       "      <td>2</td>\n",
       "      <td>0.00</td>\n",
       "      <td>1</td>\n",
       "      <td>1</td>\n",
       "      <td>1</td>\n",
       "      <td>101348.88</td>\n",
       "      <td>1</td>\n",
       "      <td>1</td>\n",
       "      <td>0</td>\n",
       "      <td>0</td>\n",
       "      <td>1</td>\n",
       "      <td>0</td>\n",
       "    </tr>\n",
       "    <tr>\n",
       "      <th>1</th>\n",
       "      <td>15647311</td>\n",
       "      <td>608</td>\n",
       "      <td>41</td>\n",
       "      <td>1</td>\n",
       "      <td>83807.86</td>\n",
       "      <td>1</td>\n",
       "      <td>0</td>\n",
       "      <td>1</td>\n",
       "      <td>112542.58</td>\n",
       "      <td>0</td>\n",
       "      <td>0</td>\n",
       "      <td>0</td>\n",
       "      <td>1</td>\n",
       "      <td>1</td>\n",
       "      <td>0</td>\n",
       "    </tr>\n",
       "    <tr>\n",
       "      <th>2</th>\n",
       "      <td>15619304</td>\n",
       "      <td>502</td>\n",
       "      <td>42</td>\n",
       "      <td>8</td>\n",
       "      <td>159660.80</td>\n",
       "      <td>3</td>\n",
       "      <td>1</td>\n",
       "      <td>0</td>\n",
       "      <td>113931.57</td>\n",
       "      <td>1</td>\n",
       "      <td>1</td>\n",
       "      <td>0</td>\n",
       "      <td>0</td>\n",
       "      <td>1</td>\n",
       "      <td>0</td>\n",
       "    </tr>\n",
       "    <tr>\n",
       "      <th>3</th>\n",
       "      <td>15701354</td>\n",
       "      <td>699</td>\n",
       "      <td>39</td>\n",
       "      <td>1</td>\n",
       "      <td>0.00</td>\n",
       "      <td>2</td>\n",
       "      <td>0</td>\n",
       "      <td>0</td>\n",
       "      <td>93826.63</td>\n",
       "      <td>0</td>\n",
       "      <td>1</td>\n",
       "      <td>0</td>\n",
       "      <td>0</td>\n",
       "      <td>1</td>\n",
       "      <td>0</td>\n",
       "    </tr>\n",
       "    <tr>\n",
       "      <th>4</th>\n",
       "      <td>15737888</td>\n",
       "      <td>850</td>\n",
       "      <td>43</td>\n",
       "      <td>2</td>\n",
       "      <td>125510.82</td>\n",
       "      <td>1</td>\n",
       "      <td>1</td>\n",
       "      <td>1</td>\n",
       "      <td>79084.10</td>\n",
       "      <td>0</td>\n",
       "      <td>0</td>\n",
       "      <td>0</td>\n",
       "      <td>1</td>\n",
       "      <td>1</td>\n",
       "      <td>0</td>\n",
       "    </tr>\n",
       "    <tr>\n",
       "      <th>...</th>\n",
       "      <td>...</td>\n",
       "      <td>...</td>\n",
       "      <td>...</td>\n",
       "      <td>...</td>\n",
       "      <td>...</td>\n",
       "      <td>...</td>\n",
       "      <td>...</td>\n",
       "      <td>...</td>\n",
       "      <td>...</td>\n",
       "      <td>...</td>\n",
       "      <td>...</td>\n",
       "      <td>...</td>\n",
       "      <td>...</td>\n",
       "      <td>...</td>\n",
       "      <td>...</td>\n",
       "    </tr>\n",
       "    <tr>\n",
       "      <th>9995</th>\n",
       "      <td>15606229</td>\n",
       "      <td>771</td>\n",
       "      <td>39</td>\n",
       "      <td>5</td>\n",
       "      <td>0.00</td>\n",
       "      <td>2</td>\n",
       "      <td>1</td>\n",
       "      <td>0</td>\n",
       "      <td>96270.64</td>\n",
       "      <td>0</td>\n",
       "      <td>1</td>\n",
       "      <td>0</td>\n",
       "      <td>0</td>\n",
       "      <td>0</td>\n",
       "      <td>1</td>\n",
       "    </tr>\n",
       "    <tr>\n",
       "      <th>9996</th>\n",
       "      <td>15569892</td>\n",
       "      <td>516</td>\n",
       "      <td>35</td>\n",
       "      <td>10</td>\n",
       "      <td>57369.61</td>\n",
       "      <td>1</td>\n",
       "      <td>1</td>\n",
       "      <td>1</td>\n",
       "      <td>101699.77</td>\n",
       "      <td>0</td>\n",
       "      <td>1</td>\n",
       "      <td>0</td>\n",
       "      <td>0</td>\n",
       "      <td>0</td>\n",
       "      <td>1</td>\n",
       "    </tr>\n",
       "    <tr>\n",
       "      <th>9997</th>\n",
       "      <td>15584532</td>\n",
       "      <td>709</td>\n",
       "      <td>36</td>\n",
       "      <td>7</td>\n",
       "      <td>0.00</td>\n",
       "      <td>1</td>\n",
       "      <td>0</td>\n",
       "      <td>1</td>\n",
       "      <td>42085.58</td>\n",
       "      <td>1</td>\n",
       "      <td>1</td>\n",
       "      <td>0</td>\n",
       "      <td>0</td>\n",
       "      <td>1</td>\n",
       "      <td>0</td>\n",
       "    </tr>\n",
       "    <tr>\n",
       "      <th>9998</th>\n",
       "      <td>15682355</td>\n",
       "      <td>772</td>\n",
       "      <td>42</td>\n",
       "      <td>3</td>\n",
       "      <td>75075.31</td>\n",
       "      <td>2</td>\n",
       "      <td>1</td>\n",
       "      <td>0</td>\n",
       "      <td>92888.52</td>\n",
       "      <td>1</td>\n",
       "      <td>0</td>\n",
       "      <td>1</td>\n",
       "      <td>0</td>\n",
       "      <td>0</td>\n",
       "      <td>1</td>\n",
       "    </tr>\n",
       "    <tr>\n",
       "      <th>9999</th>\n",
       "      <td>15628319</td>\n",
       "      <td>792</td>\n",
       "      <td>28</td>\n",
       "      <td>4</td>\n",
       "      <td>130142.79</td>\n",
       "      <td>1</td>\n",
       "      <td>1</td>\n",
       "      <td>0</td>\n",
       "      <td>38190.78</td>\n",
       "      <td>0</td>\n",
       "      <td>1</td>\n",
       "      <td>0</td>\n",
       "      <td>0</td>\n",
       "      <td>1</td>\n",
       "      <td>0</td>\n",
       "    </tr>\n",
       "  </tbody>\n",
       "</table>\n",
       "<p>9972 rows × 15 columns</p>\n",
       "</div>"
      ],
      "text/plain": [
       "      CustomerId  CreditScore  Age  Tenure    Balance  NumOfProducts  \\\n",
       "0       15634602          619   42       2       0.00              1   \n",
       "1       15647311          608   41       1   83807.86              1   \n",
       "2       15619304          502   42       8  159660.80              3   \n",
       "3       15701354          699   39       1       0.00              2   \n",
       "4       15737888          850   43       2  125510.82              1   \n",
       "...          ...          ...  ...     ...        ...            ...   \n",
       "9995    15606229          771   39       5       0.00              2   \n",
       "9996    15569892          516   35      10   57369.61              1   \n",
       "9997    15584532          709   36       7       0.00              1   \n",
       "9998    15682355          772   42       3   75075.31              2   \n",
       "9999    15628319          792   28       4  130142.79              1   \n",
       "\n",
       "      HasCrCard  IsActiveMember  EstimatedSalary  Exited  Geography_France  \\\n",
       "0             1               1        101348.88       1                 1   \n",
       "1             0               1        112542.58       0                 0   \n",
       "2             1               0        113931.57       1                 1   \n",
       "3             0               0         93826.63       0                 1   \n",
       "4             1               1         79084.10       0                 0   \n",
       "...         ...             ...              ...     ...               ...   \n",
       "9995          1               0         96270.64       0                 1   \n",
       "9996          1               1        101699.77       0                 1   \n",
       "9997          0               1         42085.58       1                 1   \n",
       "9998          1               0         92888.52       1                 0   \n",
       "9999          1               0         38190.78       0                 1   \n",
       "\n",
       "      Geography_Germany  Geography_Spain  Gender_Female  Gender_Male  \n",
       "0                     0                0              1            0  \n",
       "1                     0                1              1            0  \n",
       "2                     0                0              1            0  \n",
       "3                     0                0              1            0  \n",
       "4                     0                1              1            0  \n",
       "...                 ...              ...            ...          ...  \n",
       "9995                  0                0              0            1  \n",
       "9996                  0                0              0            1  \n",
       "9997                  0                0              1            0  \n",
       "9998                  1                0              0            1  \n",
       "9999                  0                0              1            0  \n",
       "\n",
       "[9972 rows x 15 columns]"
      ]
     },
     "execution_count": 43,
     "metadata": {},
     "output_type": "execute_result"
    }
   ],
   "source": [
    "bank_data"
   ]
  },
  {
   "cell_type": "code",
   "execution_count": 44,
   "id": "809efc12",
   "metadata": {},
   "outputs": [
    {
     "data": {
      "text/plain": [
       "Index(['CustomerId', 'CreditScore', 'Age', 'Tenure', 'Balance',\n",
       "       'NumOfProducts', 'HasCrCard', 'IsActiveMember', 'EstimatedSalary',\n",
       "       'Exited', 'Geography_France', 'Geography_Germany', 'Geography_Spain',\n",
       "       'Gender_Female', 'Gender_Male'],\n",
       "      dtype='object')"
      ]
     },
     "execution_count": 44,
     "metadata": {},
     "output_type": "execute_result"
    }
   ],
   "source": [
    "bank_data.columns"
   ]
  },
  {
   "cell_type": "code",
   "execution_count": 45,
   "id": "e9ad855f",
   "metadata": {},
   "outputs": [
    {
     "data": {
      "text/html": [
       "<div>\n",
       "<style scoped>\n",
       "    .dataframe tbody tr th:only-of-type {\n",
       "        vertical-align: middle;\n",
       "    }\n",
       "\n",
       "    .dataframe tbody tr th {\n",
       "        vertical-align: top;\n",
       "    }\n",
       "\n",
       "    .dataframe thead th {\n",
       "        text-align: right;\n",
       "    }\n",
       "</style>\n",
       "<table border=\"1\" class=\"dataframe\">\n",
       "  <thead>\n",
       "    <tr style=\"text-align: right;\">\n",
       "      <th></th>\n",
       "      <th>CustomerId</th>\n",
       "      <th>CreditScore</th>\n",
       "      <th>Age</th>\n",
       "      <th>Tenure</th>\n",
       "      <th>Balance</th>\n",
       "      <th>NumOfProducts</th>\n",
       "      <th>HasCrCard</th>\n",
       "      <th>IsActiveMember</th>\n",
       "      <th>EstimatedSalary</th>\n",
       "      <th>Exited</th>\n",
       "      <th>Geography_France</th>\n",
       "      <th>Geography_Germany</th>\n",
       "      <th>Geography_Spain</th>\n",
       "      <th>Gender_Female</th>\n",
       "      <th>Gender_Male</th>\n",
       "    </tr>\n",
       "  </thead>\n",
       "  <tbody>\n",
       "    <tr>\n",
       "      <th>0</th>\n",
       "      <td>15634602</td>\n",
       "      <td>-0.325524</td>\n",
       "      <td>0.292649</td>\n",
       "      <td>-1.040605</td>\n",
       "      <td>-1.226460</td>\n",
       "      <td>-0.911397</td>\n",
       "      <td>1</td>\n",
       "      <td>1</td>\n",
       "      <td>0.022144</td>\n",
       "      <td>1</td>\n",
       "      <td>1</td>\n",
       "      <td>0</td>\n",
       "      <td>0</td>\n",
       "      <td>1</td>\n",
       "      <td>0</td>\n",
       "    </tr>\n",
       "    <tr>\n",
       "      <th>1</th>\n",
       "      <td>15647311</td>\n",
       "      <td>-0.439386</td>\n",
       "      <td>0.197333</td>\n",
       "      <td>-1.386330</td>\n",
       "      <td>0.117154</td>\n",
       "      <td>-0.911397</td>\n",
       "      <td>0</td>\n",
       "      <td>1</td>\n",
       "      <td>0.216743</td>\n",
       "      <td>0</td>\n",
       "      <td>0</td>\n",
       "      <td>0</td>\n",
       "      <td>1</td>\n",
       "      <td>1</td>\n",
       "      <td>0</td>\n",
       "    </tr>\n",
       "    <tr>\n",
       "      <th>2</th>\n",
       "      <td>15619304</td>\n",
       "      <td>-1.536606</td>\n",
       "      <td>0.292649</td>\n",
       "      <td>1.033741</td>\n",
       "      <td>1.333234</td>\n",
       "      <td>2.529894</td>\n",
       "      <td>1</td>\n",
       "      <td>0</td>\n",
       "      <td>0.240890</td>\n",
       "      <td>1</td>\n",
       "      <td>1</td>\n",
       "      <td>0</td>\n",
       "      <td>0</td>\n",
       "      <td>1</td>\n",
       "      <td>0</td>\n",
       "    </tr>\n",
       "    <tr>\n",
       "      <th>3</th>\n",
       "      <td>15701354</td>\n",
       "      <td>0.502566</td>\n",
       "      <td>0.006700</td>\n",
       "      <td>-1.386330</td>\n",
       "      <td>-1.226460</td>\n",
       "      <td>0.809248</td>\n",
       "      <td>0</td>\n",
       "      <td>0</td>\n",
       "      <td>-0.108628</td>\n",
       "      <td>0</td>\n",
       "      <td>1</td>\n",
       "      <td>0</td>\n",
       "      <td>0</td>\n",
       "      <td>1</td>\n",
       "      <td>0</td>\n",
       "    </tr>\n",
       "    <tr>\n",
       "      <th>4</th>\n",
       "      <td>15737888</td>\n",
       "      <td>2.065587</td>\n",
       "      <td>0.387965</td>\n",
       "      <td>-1.040605</td>\n",
       "      <td>0.785739</td>\n",
       "      <td>-0.911397</td>\n",
       "      <td>1</td>\n",
       "      <td>1</td>\n",
       "      <td>-0.364921</td>\n",
       "      <td>0</td>\n",
       "      <td>0</td>\n",
       "      <td>0</td>\n",
       "      <td>1</td>\n",
       "      <td>1</td>\n",
       "      <td>0</td>\n",
       "    </tr>\n",
       "  </tbody>\n",
       "</table>\n",
       "</div>"
      ],
      "text/plain": [
       "   CustomerId  CreditScore       Age    Tenure   Balance  NumOfProducts  \\\n",
       "0    15634602    -0.325524  0.292649 -1.040605 -1.226460      -0.911397   \n",
       "1    15647311    -0.439386  0.197333 -1.386330  0.117154      -0.911397   \n",
       "2    15619304    -1.536606  0.292649  1.033741  1.333234       2.529894   \n",
       "3    15701354     0.502566  0.006700 -1.386330 -1.226460       0.809248   \n",
       "4    15737888     2.065587  0.387965 -1.040605  0.785739      -0.911397   \n",
       "\n",
       "   HasCrCard  IsActiveMember  EstimatedSalary  Exited  Geography_France  \\\n",
       "0          1               1         0.022144       1                 1   \n",
       "1          0               1         0.216743       0                 0   \n",
       "2          1               0         0.240890       1                 1   \n",
       "3          0               0        -0.108628       0                 1   \n",
       "4          1               1        -0.364921       0                 0   \n",
       "\n",
       "   Geography_Germany  Geography_Spain  Gender_Female  Gender_Male  \n",
       "0                  0                0              1            0  \n",
       "1                  0                1              1            0  \n",
       "2                  0                0              1            0  \n",
       "3                  0                0              1            0  \n",
       "4                  0                1              1            0  "
      ]
     },
     "execution_count": 45,
     "metadata": {},
     "output_type": "execute_result"
    }
   ],
   "source": [
    "from sklearn.preprocessing import StandardScaler\n",
    "std_scaler = StandardScaler()\n",
    "\n",
    "scale_columns = ['CreditScore', 'Age', 'Tenure', 'Balance',\n",
    "        'NumOfProducts',  'EstimatedSalary']\n",
    "bank_data[scale_columns] = std_scaler.fit_transform(bank_data[scale_columns])\n",
    "\n",
    "bank_data.head()"
   ]
  },
  {
   "cell_type": "code",
   "execution_count": 46,
   "id": "0a601e3c",
   "metadata": {},
   "outputs": [],
   "source": [
    "# from sklearn.preprocessing import MinMaxScaler\n",
    "# MinMax_scaler = MinMaxScaler()\n",
    "\n",
    "# scale_columns = ['CreditScore', 'Age', 'Tenure', 'Balance',\n",
    "#        'NumOfProducts',  'EstimatedSalary']\n",
    "# bank_data[scale_columns] = MinMax_scaler.fit_transform(bank_data[scale_columns])\n",
    "\n",
    "# bank_data.head()"
   ]
  },
  {
   "cell_type": "code",
   "execution_count": 47,
   "id": "8fb16654",
   "metadata": {},
   "outputs": [],
   "source": [
    "y=bank_data['Exited']\n",
    "\n",
    "x=bank_data.drop('Exited', axis=1)"
   ]
  },
  {
   "cell_type": "code",
   "execution_count": 48,
   "id": "ce23d901",
   "metadata": {},
   "outputs": [],
   "source": [
    "x = x.drop(['CustomerId'],axis = 1)"
   ]
  },
  {
   "cell_type": "code",
   "execution_count": 49,
   "id": "37e66e01",
   "metadata": {},
   "outputs": [
    {
     "data": {
      "text/html": [
       "<div>\n",
       "<style scoped>\n",
       "    .dataframe tbody tr th:only-of-type {\n",
       "        vertical-align: middle;\n",
       "    }\n",
       "\n",
       "    .dataframe tbody tr th {\n",
       "        vertical-align: top;\n",
       "    }\n",
       "\n",
       "    .dataframe thead th {\n",
       "        text-align: right;\n",
       "    }\n",
       "</style>\n",
       "<table border=\"1\" class=\"dataframe\">\n",
       "  <thead>\n",
       "    <tr style=\"text-align: right;\">\n",
       "      <th></th>\n",
       "      <th>CreditScore</th>\n",
       "      <th>Age</th>\n",
       "      <th>Tenure</th>\n",
       "      <th>Balance</th>\n",
       "      <th>NumOfProducts</th>\n",
       "      <th>HasCrCard</th>\n",
       "      <th>IsActiveMember</th>\n",
       "      <th>EstimatedSalary</th>\n",
       "      <th>Geography_France</th>\n",
       "      <th>Geography_Germany</th>\n",
       "      <th>Geography_Spain</th>\n",
       "      <th>Gender_Female</th>\n",
       "      <th>Gender_Male</th>\n",
       "    </tr>\n",
       "  </thead>\n",
       "  <tbody>\n",
       "    <tr>\n",
       "      <th>0</th>\n",
       "      <td>-0.325524</td>\n",
       "      <td>0.292649</td>\n",
       "      <td>-1.040605</td>\n",
       "      <td>-1.226460</td>\n",
       "      <td>-0.911397</td>\n",
       "      <td>1</td>\n",
       "      <td>1</td>\n",
       "      <td>0.022144</td>\n",
       "      <td>1</td>\n",
       "      <td>0</td>\n",
       "      <td>0</td>\n",
       "      <td>1</td>\n",
       "      <td>0</td>\n",
       "    </tr>\n",
       "    <tr>\n",
       "      <th>1</th>\n",
       "      <td>-0.439386</td>\n",
       "      <td>0.197333</td>\n",
       "      <td>-1.386330</td>\n",
       "      <td>0.117154</td>\n",
       "      <td>-0.911397</td>\n",
       "      <td>0</td>\n",
       "      <td>1</td>\n",
       "      <td>0.216743</td>\n",
       "      <td>0</td>\n",
       "      <td>0</td>\n",
       "      <td>1</td>\n",
       "      <td>1</td>\n",
       "      <td>0</td>\n",
       "    </tr>\n",
       "    <tr>\n",
       "      <th>2</th>\n",
       "      <td>-1.536606</td>\n",
       "      <td>0.292649</td>\n",
       "      <td>1.033741</td>\n",
       "      <td>1.333234</td>\n",
       "      <td>2.529894</td>\n",
       "      <td>1</td>\n",
       "      <td>0</td>\n",
       "      <td>0.240890</td>\n",
       "      <td>1</td>\n",
       "      <td>0</td>\n",
       "      <td>0</td>\n",
       "      <td>1</td>\n",
       "      <td>0</td>\n",
       "    </tr>\n",
       "    <tr>\n",
       "      <th>3</th>\n",
       "      <td>0.502566</td>\n",
       "      <td>0.006700</td>\n",
       "      <td>-1.386330</td>\n",
       "      <td>-1.226460</td>\n",
       "      <td>0.809248</td>\n",
       "      <td>0</td>\n",
       "      <td>0</td>\n",
       "      <td>-0.108628</td>\n",
       "      <td>1</td>\n",
       "      <td>0</td>\n",
       "      <td>0</td>\n",
       "      <td>1</td>\n",
       "      <td>0</td>\n",
       "    </tr>\n",
       "    <tr>\n",
       "      <th>4</th>\n",
       "      <td>2.065587</td>\n",
       "      <td>0.387965</td>\n",
       "      <td>-1.040605</td>\n",
       "      <td>0.785739</td>\n",
       "      <td>-0.911397</td>\n",
       "      <td>1</td>\n",
       "      <td>1</td>\n",
       "      <td>-0.364921</td>\n",
       "      <td>0</td>\n",
       "      <td>0</td>\n",
       "      <td>1</td>\n",
       "      <td>1</td>\n",
       "      <td>0</td>\n",
       "    </tr>\n",
       "    <tr>\n",
       "      <th>...</th>\n",
       "      <td>...</td>\n",
       "      <td>...</td>\n",
       "      <td>...</td>\n",
       "      <td>...</td>\n",
       "      <td>...</td>\n",
       "      <td>...</td>\n",
       "      <td>...</td>\n",
       "      <td>...</td>\n",
       "      <td>...</td>\n",
       "      <td>...</td>\n",
       "      <td>...</td>\n",
       "      <td>...</td>\n",
       "      <td>...</td>\n",
       "    </tr>\n",
       "    <tr>\n",
       "      <th>9995</th>\n",
       "      <td>1.247848</td>\n",
       "      <td>0.006700</td>\n",
       "      <td>-0.003432</td>\n",
       "      <td>-1.226460</td>\n",
       "      <td>0.809248</td>\n",
       "      <td>1</td>\n",
       "      <td>0</td>\n",
       "      <td>-0.066139</td>\n",
       "      <td>1</td>\n",
       "      <td>0</td>\n",
       "      <td>0</td>\n",
       "      <td>0</td>\n",
       "      <td>1</td>\n",
       "    </tr>\n",
       "    <tr>\n",
       "      <th>9996</th>\n",
       "      <td>-1.391690</td>\n",
       "      <td>-0.374564</td>\n",
       "      <td>1.725189</td>\n",
       "      <td>-0.306706</td>\n",
       "      <td>-0.911397</td>\n",
       "      <td>1</td>\n",
       "      <td>1</td>\n",
       "      <td>0.028244</td>\n",
       "      <td>1</td>\n",
       "      <td>0</td>\n",
       "      <td>0</td>\n",
       "      <td>0</td>\n",
       "      <td>1</td>\n",
       "    </tr>\n",
       "    <tr>\n",
       "      <th>9997</th>\n",
       "      <td>0.606078</td>\n",
       "      <td>-0.279248</td>\n",
       "      <td>0.688016</td>\n",
       "      <td>-1.226460</td>\n",
       "      <td>-0.911397</td>\n",
       "      <td>0</td>\n",
       "      <td>1</td>\n",
       "      <td>-1.008127</td>\n",
       "      <td>1</td>\n",
       "      <td>0</td>\n",
       "      <td>0</td>\n",
       "      <td>1</td>\n",
       "      <td>0</td>\n",
       "    </tr>\n",
       "    <tr>\n",
       "      <th>9998</th>\n",
       "      <td>1.258199</td>\n",
       "      <td>0.292649</td>\n",
       "      <td>-0.694881</td>\n",
       "      <td>-0.022847</td>\n",
       "      <td>0.809248</td>\n",
       "      <td>1</td>\n",
       "      <td>0</td>\n",
       "      <td>-0.124936</td>\n",
       "      <td>0</td>\n",
       "      <td>1</td>\n",
       "      <td>0</td>\n",
       "      <td>0</td>\n",
       "      <td>1</td>\n",
       "    </tr>\n",
       "    <tr>\n",
       "      <th>9999</th>\n",
       "      <td>1.465222</td>\n",
       "      <td>-1.041778</td>\n",
       "      <td>-0.349157</td>\n",
       "      <td>0.859999</td>\n",
       "      <td>-0.911397</td>\n",
       "      <td>1</td>\n",
       "      <td>0</td>\n",
       "      <td>-1.075837</td>\n",
       "      <td>1</td>\n",
       "      <td>0</td>\n",
       "      <td>0</td>\n",
       "      <td>1</td>\n",
       "      <td>0</td>\n",
       "    </tr>\n",
       "  </tbody>\n",
       "</table>\n",
       "<p>9972 rows × 13 columns</p>\n",
       "</div>"
      ],
      "text/plain": [
       "      CreditScore       Age    Tenure   Balance  NumOfProducts  HasCrCard  \\\n",
       "0       -0.325524  0.292649 -1.040605 -1.226460      -0.911397          1   \n",
       "1       -0.439386  0.197333 -1.386330  0.117154      -0.911397          0   \n",
       "2       -1.536606  0.292649  1.033741  1.333234       2.529894          1   \n",
       "3        0.502566  0.006700 -1.386330 -1.226460       0.809248          0   \n",
       "4        2.065587  0.387965 -1.040605  0.785739      -0.911397          1   \n",
       "...           ...       ...       ...       ...            ...        ...   \n",
       "9995     1.247848  0.006700 -0.003432 -1.226460       0.809248          1   \n",
       "9996    -1.391690 -0.374564  1.725189 -0.306706      -0.911397          1   \n",
       "9997     0.606078 -0.279248  0.688016 -1.226460      -0.911397          0   \n",
       "9998     1.258199  0.292649 -0.694881 -0.022847       0.809248          1   \n",
       "9999     1.465222 -1.041778 -0.349157  0.859999      -0.911397          1   \n",
       "\n",
       "      IsActiveMember  EstimatedSalary  Geography_France  Geography_Germany  \\\n",
       "0                  1         0.022144                 1                  0   \n",
       "1                  1         0.216743                 0                  0   \n",
       "2                  0         0.240890                 1                  0   \n",
       "3                  0        -0.108628                 1                  0   \n",
       "4                  1        -0.364921                 0                  0   \n",
       "...              ...              ...               ...                ...   \n",
       "9995               0        -0.066139                 1                  0   \n",
       "9996               1         0.028244                 1                  0   \n",
       "9997               1        -1.008127                 1                  0   \n",
       "9998               0        -0.124936                 0                  1   \n",
       "9999               0        -1.075837                 1                  0   \n",
       "\n",
       "      Geography_Spain  Gender_Female  Gender_Male  \n",
       "0                   0              1            0  \n",
       "1                   1              1            0  \n",
       "2                   0              1            0  \n",
       "3                   0              1            0  \n",
       "4                   1              1            0  \n",
       "...               ...            ...          ...  \n",
       "9995                0              0            1  \n",
       "9996                0              0            1  \n",
       "9997                0              1            0  \n",
       "9998                0              0            1  \n",
       "9999                0              1            0  \n",
       "\n",
       "[9972 rows x 13 columns]"
      ]
     },
     "execution_count": 49,
     "metadata": {},
     "output_type": "execute_result"
    }
   ],
   "source": [
    "x"
   ]
  },
  {
   "cell_type": "code",
   "execution_count": 50,
   "id": "a411471c",
   "metadata": {},
   "outputs": [
    {
     "data": {
      "text/plain": [
       "0       1\n",
       "1       0\n",
       "2       1\n",
       "3       0\n",
       "4       0\n",
       "       ..\n",
       "9995    0\n",
       "9996    0\n",
       "9997    1\n",
       "9998    1\n",
       "9999    0\n",
       "Name: Exited, Length: 9972, dtype: int64"
      ]
     },
     "execution_count": 50,
     "metadata": {},
     "output_type": "execute_result"
    }
   ],
   "source": [
    "y"
   ]
  },
  {
   "cell_type": "code",
   "execution_count": 51,
   "id": "f2b143f3",
   "metadata": {},
   "outputs": [],
   "source": [
    "from sklearn.model_selection import train_test_split"
   ]
  },
  {
   "cell_type": "code",
   "execution_count": 52,
   "id": "92c9d62c",
   "metadata": {},
   "outputs": [],
   "source": [
    "# Train-Test Separation\n",
    "X_train, X_test, y_train, y_test = train_test_split(x, y, test_size=0.20, random_state=0) \n",
    "                                                   "
   ]
  },
  {
   "cell_type": "markdown",
   "id": "b3c5f661",
   "metadata": {},
   "source": [
    "## Build the Model"
   ]
  },
  {
   "cell_type": "code",
   "execution_count": 53,
   "id": "5c52c131",
   "metadata": {},
   "outputs": [],
   "source": [
    "from sklearn.linear_model import LogisticRegression\n",
    "from sklearn.neighbors import KNeighborsClassifier\n",
    "from sklearn.tree import DecisionTreeClassifier\n",
    "from sklearn.svm import SVC\n",
    "from sklearn.ensemble import RandomForestClassifier\n",
    "from sklearn.metrics import accuracy_score\n",
    "from sklearn.metrics import classification_report\n",
    "from sklearn import metrics"
   ]
  },
  {
   "cell_type": "code",
   "execution_count": 54,
   "id": "9020775a",
   "metadata": {},
   "outputs": [],
   "source": [
    "## User defined function for accuracy report\n",
    "\n",
    "def confusionMatrix(df):\n",
    "    #accuracy score\n",
    "    print(\"Accuracy Score = {}\".format(accuracy_score(df.actual,df.predicted)))\n",
    "    print(\"\\n\")\n",
    "    #Confusion Matrix\n",
    "    print(\"Confusion Matrix\")\n",
    "    print(pd.crosstab(df.actual,df.predicted,margins=True))\n",
    "    print(\"\\n\")\n",
    "    #Classification Report\n",
    "    print(\"Calssification Report\\n\",classification_report(df.actual, df.predicted))\n",
    "    \n",
    "    # ROC /AUC\n",
    "    fpr,tpr,_=metrics.roc_curve(df.actual,df.predicted)\n",
    "    area_under_curve=metrics.auc(fpr,tpr)\n",
    "    \n",
    "    #plot the ROC\n",
    "    \n",
    "    plt.title(\"Receptive Characterstic Curve\")\n",
    "    plt.plot(fpr,tpr,'b',label=\"AUC=\"+str(area_under_curve))\n",
    "    plt.legend(loc='lower right')\n",
    "    plt.plot([0,1],[0,1],'r--') #dummy model\n",
    "    plt.xlim([0,1])\n",
    "    plt.ylim([0,1])\n",
    "    plt.xlabel(\"False Positive Rate\")\n",
    "    plt.ylabel(\"True positive Rate\")\n",
    "    plt.show()"
   ]
  },
  {
   "cell_type": "code",
   "execution_count": 55,
   "id": "c8c76808",
   "metadata": {},
   "outputs": [],
   "source": [
    "models = []\n",
    "models.append(('LR', LogisticRegression(random_state = 3)))\n",
    "models.append(('KNN', KNeighborsClassifier()))\n",
    "models.append(('CART',DecisionTreeClassifier(random_state = 3)))\n",
    "models.append(('RF',RandomForestClassifier(random_state = 3)))\n",
    "models.append(('SVM',SVC(gamma = 'auto',random_state = 3)))\n",
    "\n",
    "# evaluate each model in turn\n",
    "results = []\n",
    "names = []"
   ]
  },
  {
   "cell_type": "code",
   "execution_count": 64,
   "id": "2d801125",
   "metadata": {},
   "outputs": [
    {
     "name": "stdout",
     "output_type": "stream",
     "text": [
      "LR: (0.810526)\n",
      "Accuracy Score = 0.8105263157894737\n",
      "\n",
      "\n",
      "Confusion Matrix\n",
      "predicted     0    1   All\n",
      "actual                    \n",
      "0          1534   59  1593\n",
      "1           319   83   402\n",
      "All        1853  142  1995\n",
      "\n",
      "\n",
      "Calssification Report\n",
      "               precision    recall  f1-score   support\n",
      "\n",
      "           0       0.83      0.96      0.89      1593\n",
      "           1       0.58      0.21      0.31       402\n",
      "\n",
      "    accuracy                           0.81      1995\n",
      "   macro avg       0.71      0.58      0.60      1995\n",
      "weighted avg       0.78      0.81      0.77      1995\n",
      "\n"
     ]
    },
    {
     "data": {
      "image/png": "[encoded data removed]",
      "text/plain": [
       "<Figure size 432x288 with 1 Axes>"
      ]
     },
     "metadata": {},
     "output_type": "display_data"
    },
    {
     "name": "stdout",
     "output_type": "stream",
     "text": [
      "None\n",
      "    prediction  Exited\n",
      "11           0       0\n",
      "17           0       0\n",
      "20           0       0\n",
      "25           0       0\n",
      "33           0       0\n",
      " \n",
      "****************************************************************************************************\n",
      "****************************************************************************************************\n",
      " \n",
      "KNN: (0.836591)\n",
      "Accuracy Score = 0.8365914786967419\n",
      "\n",
      "\n",
      "Confusion Matrix\n",
      "predicted     0    1   All\n",
      "actual                    \n",
      "0          1500   93  1593\n",
      "1           233  169   402\n",
      "All        1733  262  1995\n",
      "\n",
      "\n",
      "Calssification Report\n",
      "               precision    recall  f1-score   support\n",
      "\n",
      "           0       0.87      0.94      0.90      1593\n",
      "           1       0.65      0.42      0.51       402\n",
      "\n",
      "    accuracy                           0.84      1995\n",
      "   macro avg       0.76      0.68      0.71      1995\n",
      "weighted avg       0.82      0.84      0.82      1995\n",
      "\n"
     ]
    },
    {
     "data": {
      "image/png": "[encoded data removed]",
      "text/plain": [
       "<Figure size 432x288 with 1 Axes>"
      ]
     },
     "metadata": {},
     "output_type": "display_data"
    },
    {
     "name": "stdout",
     "output_type": "stream",
     "text": [
      "None\n",
      "    prediction  Exited\n",
      "11           0       0\n",
      "17           0       0\n",
      "20           0       0\n",
      "25           0       0\n",
      "33           0       0\n",
      " \n",
      "****************************************************************************************************\n",
      "****************************************************************************************************\n",
      " \n",
      "CART: (0.792982)\n",
      "Accuracy Score = 0.7929824561403509\n",
      "\n",
      "\n",
      "Confusion Matrix\n",
      "predicted     0    1   All\n",
      "actual                    \n",
      "0          1385  208  1593\n",
      "1           205  197   402\n",
      "All        1590  405  1995\n",
      "\n",
      "\n",
      "Calssification Report\n",
      "               precision    recall  f1-score   support\n",
      "\n",
      "           0       0.87      0.87      0.87      1593\n",
      "           1       0.49      0.49      0.49       402\n",
      "\n",
      "    accuracy                           0.79      1995\n",
      "   macro avg       0.68      0.68      0.68      1995\n",
      "weighted avg       0.79      0.79      0.79      1995\n",
      "\n"
     ]
    },
    {
     "data": {
      "image/png": "[encoded data removed]",
      "text/plain": [
       "<Figure size 432x288 with 1 Axes>"
      ]
     },
     "metadata": {},
     "output_type": "display_data"
    },
    {
     "name": "stdout",
     "output_type": "stream",
     "text": [
      "None\n",
      "    prediction  Exited\n",
      "11           0       0\n",
      "17           0       0\n",
      "20           0       0\n",
      "25           0       0\n",
      "33           0       0\n",
      " \n",
      "****************************************************************************************************\n",
      "****************************************************************************************************\n",
      " \n",
      "RF: (0.862155)\n",
      "Accuracy Score = 0.8621553884711779\n",
      "\n",
      "\n",
      "Confusion Matrix\n",
      "predicted     0    1   All\n",
      "actual                    \n",
      "0          1530   63  1593\n",
      "1           212  190   402\n",
      "All        1742  253  1995\n",
      "\n",
      "\n",
      "Calssification Report\n",
      "               precision    recall  f1-score   support\n",
      "\n",
      "           0       0.88      0.96      0.92      1593\n",
      "           1       0.75      0.47      0.58       402\n",
      "\n",
      "    accuracy                           0.86      1995\n",
      "   macro avg       0.81      0.72      0.75      1995\n",
      "weighted avg       0.85      0.86      0.85      1995\n",
      "\n"
     ]
    },
    {
     "data": {
      "image/png": "[encoded data removed]",
      "text/plain": [
       "<Figure size 432x288 with 1 Axes>"
      ]
     },
     "metadata": {},
     "output_type": "display_data"
    },
    {
     "name": "stdout",
     "output_type": "stream",
     "text": [
      "None\n",
      "    prediction  Exited\n",
      "11           0       0\n",
      "17           0       0\n",
      "20           0       0\n",
      "25           0       0\n",
      "33           0       0\n",
      " \n",
      "****************************************************************************************************\n",
      "****************************************************************************************************\n",
      " \n",
      "SVM: (0.861654)\n",
      "Accuracy Score = 0.8616541353383459\n",
      "\n",
      "\n",
      "Confusion Matrix\n",
      "predicted     0    1   All\n",
      "actual                    \n",
      "0          1561   32  1593\n",
      "1           244  158   402\n",
      "All        1805  190  1995\n",
      "\n",
      "\n",
      "Calssification Report\n",
      "               precision    recall  f1-score   support\n",
      "\n",
      "           0       0.86      0.98      0.92      1593\n",
      "           1       0.83      0.39      0.53       402\n",
      "\n",
      "    accuracy                           0.86      1995\n",
      "   macro avg       0.85      0.69      0.73      1995\n",
      "weighted avg       0.86      0.86      0.84      1995\n",
      "\n"
     ]
    },
    {
     "data": {
      "image/png": "[encoded data removed]",
      "text/plain": [
       "<Figure size 432x288 with 1 Axes>"
      ]
     },
     "metadata": {},
     "output_type": "display_data"
    },
    {
     "name": "stdout",
     "output_type": "stream",
     "text": [
      "None\n",
      "    prediction  Exited\n",
      "11           0       0\n",
      "17           0       0\n",
      "20           0       0\n",
      "25           0       0\n",
      "33           0       0\n",
      " \n",
      "****************************************************************************************************\n",
      "****************************************************************************************************\n",
      " \n"
     ]
    }
   ],
   "source": [
    "for name, model in models:\n",
    "    model.fit(X_train,y_train)\n",
    "    y_pred = model.predict(X_test)\n",
    "    accuracy = accuracy_score(y_test,y_pred)\n",
    "    msg = '%s: (%f)'% (name,accuracy)\n",
    "    print(msg)\n",
    "    df=pd.DataFrame({'actual':y_test,'predicted':y_pred.flatten(),'True/false':y_test==y_pred})\n",
    "    print(confusionMatrix(df))\n",
    "    series_pred = pd.Series(y_pred)\n",
    "\n",
    "\n",
    "    df1 = pd.DataFrame(data=series_pred, columns=['prediction'])\n",
    "    df = pd.merge(df1, y_test, left_index=True, right_index=True)\n",
    "    print(df.head())\n",
    "    print(\" \")\n",
    "    print(100*\"*\")\n",
    "    print(100*\"*\")\n",
    "    print(\" \")"
   ]
  },
  {
   "cell_type": "markdown",
   "id": "f149c57e",
   "metadata": {},
   "source": [
    "## Cross Validation"
   ]
  },
  {
   "cell_type": "code",
   "execution_count": 57,
   "id": "f2b59ff7",
   "metadata": {},
   "outputs": [
    {
     "name": "stderr",
     "output_type": "stream",
     "text": [
      "C:\\Users\\krishna\\anaconda3\\lib\\site-packages\\seaborn\\_decorators.py:36: FutureWarning: Pass the following variables as keyword args: x, y. From version 0.12, the only valid positional argument will be `data`, and passing other arguments without an explicit keyword will result in an error or misinterpretation.\n",
      "  warnings.warn(\n"
     ]
    },
    {
     "data": {
      "image/png": "[encoded data removed]",
      "text/plain": [
       "<Figure size 432x288 with 1 Axes>"
      ]
     },
     "metadata": {},
     "output_type": "display_data"
    }
   ],
   "source": [
    "from sklearn.model_selection import GridSearchCV, cross_val_score, StratifiedKFold\n",
    "# Cross validate model with Kfold stratified cross validation\n",
    "kfold = StratifiedKFold(n_splits=5)\n",
    "# Modeling step Test differents algorithms \n",
    "random_state = 10101\n",
    "classifiers = []\n",
    "classifiers.append(LogisticRegression())\n",
    "classifiers.append(RandomForestClassifier())\n",
    "classifiers.append(KNeighborsClassifier())\n",
    "classifiers.append(SVC())\n",
    "classifiers.append(DecisionTreeClassifier())\n",
    "cv_results = []\n",
    "for classifier in classifiers :\n",
    "    cv_results.append(cross_val_score(classifier, X_train, y = y_train, scoring = \"accuracy\", cv = kfold, n_jobs=4))\n",
    "cv_means = []\n",
    "cv_std = []\n",
    "for cv_result in cv_results:\n",
    "    cv_means.append(cv_result.mean())\n",
    "    cv_std.append(cv_result.std())\n",
    "cv_res = pd.DataFrame({\"CrossValMeans\":cv_means,\"CrossValerrors\": cv_std,\"Algorithm\":[\"LogisticRegression\",\"RandomForest\",\"KNeighboors\",\"SVC\",\"DecisionTree\"]})\n",
    "g = sns.barplot(\"CrossValMeans\",\"Algorithm\",data = cv_res, palette=\"Set2\",orient = \"h\",**{'xerr':cv_std})\n",
    "g.set_xlabel(\"Mean Accuracy\")\n",
    "g = g.set_title(\"Cross validation scores\")"
   ]
  },
  {
   "cell_type": "code",
   "execution_count": 58,
   "id": "4cb36d61",
   "metadata": {},
   "outputs": [
    {
     "data": {
      "text/html": [
       "<div>\n",
       "<style scoped>\n",
       "    .dataframe tbody tr th:only-of-type {\n",
       "        vertical-align: middle;\n",
       "    }\n",
       "\n",
       "    .dataframe tbody tr th {\n",
       "        vertical-align: top;\n",
       "    }\n",
       "\n",
       "    .dataframe thead th {\n",
       "        text-align: right;\n",
       "    }\n",
       "</style>\n",
       "<table border=\"1\" class=\"dataframe\">\n",
       "  <thead>\n",
       "    <tr style=\"text-align: right;\">\n",
       "      <th></th>\n",
       "      <th>CrossValMeans</th>\n",
       "      <th>CrossValerrors</th>\n",
       "      <th>Algorithm</th>\n",
       "    </tr>\n",
       "  </thead>\n",
       "  <tbody>\n",
       "    <tr>\n",
       "      <th>0</th>\n",
       "      <td>0.809953</td>\n",
       "      <td>0.006350</td>\n",
       "      <td>LogisticRegression</td>\n",
       "    </tr>\n",
       "    <tr>\n",
       "      <th>1</th>\n",
       "      <td>0.859721</td>\n",
       "      <td>0.006681</td>\n",
       "      <td>RandomForest</td>\n",
       "    </tr>\n",
       "    <tr>\n",
       "      <th>2</th>\n",
       "      <td>0.836279</td>\n",
       "      <td>0.003832</td>\n",
       "      <td>KNeighboors</td>\n",
       "    </tr>\n",
       "    <tr>\n",
       "      <th>3</th>\n",
       "      <td>0.855584</td>\n",
       "      <td>0.006608</td>\n",
       "      <td>SVC</td>\n",
       "    </tr>\n",
       "    <tr>\n",
       "      <th>4</th>\n",
       "      <td>0.789772</td>\n",
       "      <td>0.009215</td>\n",
       "      <td>DecisionTree</td>\n",
       "    </tr>\n",
       "  </tbody>\n",
       "</table>\n",
       "</div>"
      ],
      "text/plain": [
       "   CrossValMeans  CrossValerrors           Algorithm\n",
       "0       0.809953        0.006350  LogisticRegression\n",
       "1       0.859721        0.006681        RandomForest\n",
       "2       0.836279        0.003832         KNeighboors\n",
       "3       0.855584        0.006608                 SVC\n",
       "4       0.789772        0.009215        DecisionTree"
      ]
     },
     "execution_count": 58,
     "metadata": {},
     "output_type": "execute_result"
    }
   ],
   "source": [
    "cv_res"
   ]
  },
  {
   "cell_type": "markdown",
   "id": "8800e921",
   "metadata": {},
   "source": [
    "##### Best Algorithm is  random forest  because it gives best results compare to others classificaton algorithms"
   ]
  },
  {
   "cell_type": "code",
   "execution_count": null,
   "id": "81ba722e",
   "metadata": {},
   "outputs": [],
   "source": []
  },
  {
   "cell_type": "code",
   "execution_count": null,
   "id": "a8cab28b",
   "metadata": {},
   "outputs": [],
   "source": []
  }
 ],
 "metadata": {
  "kernelspec": {
   "display_name": "Python 3",
   "language": "python",
   "name": "python3"
  },
  "language_info": {
   "codemirror_mode": {
    "name": "ipython",
    "version": 3
   },
   "file_extension": ".py",
   "mimetype": "text/x-python",
   "name": "python",
   "nbconvert_exporter": "python",
   "pygments_lexer": "ipython3",
   "version": "3.8.8"
  }
 },
 "nbformat": 4,
 "nbformat_minor": 5
}
